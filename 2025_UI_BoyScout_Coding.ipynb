{
  "nbformat": 4,
  "nbformat_minor": 0,
  "metadata": {
    "colab": {
      "provenance": []
    },
    "kernelspec": {
      "name": "python3",
      "display_name": "Python 3"
    },
    "language_info": {
      "name": "python"
    }
  },
  "cells": [
    {
      "cell_type": "markdown",
      "source": [
        "<a target=\"_blank\" href=\"https://colab.research.google.com/github/ChuBL/BoyScout_Coding/blob/main/2025_UI_BoyScout_Coding.ipynb\">\n",
        "  <img src=\"https://colab.research.google.com/assets/colab-badge.svg\" alt=\"Open In Colab\"/>\n",
        "</a>"
      ],
      "metadata": {
        "id": "MTp0DkZwXtr_"
      }
    },
    {
      "cell_type": "markdown",
      "source": [
        "# 1. Adversarial Attack Against the AIs: Prompt Engineering 101\n",
        "*Persuading AIs with human languages*"
      ],
      "metadata": {
        "id": "zoWjB7U8DHf4"
      }
    },
    {
      "cell_type": "markdown",
      "source": [
        "## Instruction\n",
        "\n",
        "Generative AI models are trained on large datasets, similar to how humans learn by reading books. However, books do not explicitly teach AI models how to behave or serve human needs in specific roles.\n",
        "\n",
        "Prompt Engineering is the technique of guiding AI behavior by providing clear and specific instructions. For example, if you want gym advice, you can instruct the AI to respond as a fitness expert.\n",
        "\n",
        "Beyond assigning appropriate roles, Prompt Engineering is also useful for bypassing AI safeguards. A well-known example involves a user tricking a Microsoft AI (a variation of ChatGPT) into revealing Windows activation keys by telling it to pretend to be their grandmother reading a bedtime story. This highlights both the power and risks of manipulating AI with creative prompts.\n",
        "\n",
        "In today's challenge, Gandalf's Secret is a website landing a series of levels where you will communicate with an AI using human language to bypass its security settings and get the secret password to enter the subsequential levels.\n",
        "\n",
        "---\n",
        "\n",
        "## Tasks\n",
        "\n",
        "In this task, you do not need to write any code. Instead, your goal is to experiment with different prompts to persuade the AI into revealing a secret password.\n",
        "\n",
        "1. Visit [Gandalf's Secret](https://gandalf.lakera.ai/baseline).\n",
        "2. Try different creative prompts to trick the AI into revealing the password.\n",
        "3. Record the prompt you used and the password you obtained as proof of your achievement.\n",
        "\n",
        "❗*Hint: The difficulties of the levels can soon be beyond reasonable, so you can search for online solutions. Just note that some answers were outdated and unable to pass the updated levels.*\n",
        "\n",
        "---\n",
        "\n",
        "## Expected Learning Outcomes\n",
        "- Develop an understanding of how to communicate effectively with AI models.\n",
        "- Learn how prompt engineering influences AI responses.\n",
        "- Understand how AI security and safeguards work, helping you design more robust AI systems in the future.\n",
        "\n",
        "---\n",
        "\n",
        "## Discussion Questions\n",
        "- How did you successfully bypass the AI?\n",
        "- Who can get the password with the shortest prompt?\n",
        "- What does this teach you about AI security?"
      ],
      "metadata": {
        "id": "HwJly97cD54s"
      }
    },
    {
      "cell_type": "markdown",
      "source": [
        "## Starting here: [Gandalf's Secret](https://gandalf.lakera.ai/baseline)\n",
        "**Please paste your passed levels' prompts and passwords below:**"
      ],
      "metadata": {
        "id": "ylPq5AB3DO9S"
      }
    },
    {
      "cell_type": "code",
      "execution_count": null,
      "metadata": {
        "id": "K27TVA6rC_n4",
        "cellView": "form"
      },
      "outputs": [],
      "source": [
        "# @title Gandalf's Secret Levels Part. 1\n",
        "\n",
        "Level_1_Prompt = \"\" # @param {\"type\":\"string\"}\n",
        "Level_1_Password = \"\" # @param {\"type\":\"string\"}\n",
        "# @markdown ---\n",
        "Level_2_Prompt = \"\" # @param {\"type\":\"string\"}\n",
        "Level_2_Password = \"\" # @param {\"type\":\"string\"}\n",
        "# @markdown ---\n",
        "Level_3_Prompt = \"\" # @param {\"type\":\"string\"}\n",
        "Level_3_Password = \"\" # @param {\"type\":\"string\"}\n",
        "# @markdown ---\n",
        "Level_4_Prompt = \"\" # @param {\"type\":\"string\"}\n",
        "Level_4_Password = \"\" # @param {\"type\":\"string\"}"
      ]
    },
    {
      "cell_type": "code",
      "source": [
        "# @title Gandalf's Secret Levels Part. 2\n",
        "Level_5_Prompt = \"\" # @param {\"type\":\"string\"}\n",
        "Level_5_Password = \"\" # @param {\"type\":\"string\"}\n",
        "# @markdown ---\n",
        "Level_6_Prompt = \"\" # @param {\"type\":\"string\"}\n",
        "Level_6_Password = \"\" # @param {\"type\":\"string\"}\n",
        "# @markdown ---\n",
        "Level_7_Prompt = \"\" # @param {\"type\":\"string\"}\n",
        "Level_7_Password = \"\" # @param {\"type\":\"string\"}\n",
        "# @markdown ---\n",
        "Level_8_Prompt = \"\" # @param {\"type\":\"string\"}\n",
        "Level_8_Password = \"\" # @param {\"type\":\"string\"}"
      ],
      "metadata": {
        "cellView": "form",
        "id": "aGDWTz8KE6mm"
      },
      "execution_count": null,
      "outputs": []
    },
    {
      "cell_type": "markdown",
      "source": [
        "# 2. Drawing with Code: Python Turtle\n",
        "*Tiny turtle, big picture.*"
      ],
      "metadata": {
        "id": "OcNUL492DcAb"
      }
    },
    {
      "cell_type": "markdown",
      "source": [
        "## Instruction\n",
        "\n",
        "Python Turtle is a well-known Python library that allows you to create drawings by controlling the movement of a tiny turtle. Since we are working in a Google Colab environment, where the official `turtle` module is not directly available, we will use a modified version called `ColabTurtlePlus`.\n",
        "\n",
        "Please note that the syntax of `ColabTurtlePlus` differs slightly from the original `turtle` module, but don't worry—you will quickly become familiar with it through our example code.\n",
        "\n",
        "---\n",
        "\n",
        "## Tasks\n",
        "\n",
        "In this section, you will write Python code. After each tutorial, you will be given a series of small exercises to practice your understanding. Though you can build your code on your own, you are suggested to copy and paste the code from the tutorial before conduct your modifications.\n",
        "\n",
        "The difficulty levels of the exercises are not strictly progressive, so feel free to skip any that seem too challenging, or raise your hand if you need help!\n",
        "\n",
        "❗Before you go, remember to install the `ColabTurtlePlus` by runing the code below this cell.\n",
        "\n",
        "---\n",
        "\n",
        "## Expected Learning Outcomes\n",
        "- Understand the basics of Python Turtle graphics using `ColabTurtlePlus`.\n",
        "- Learn fundamental Python programming concepts, including:\n",
        "  - Parameters\n",
        "  - `for` loops\n",
        "  - Functions\n",
        "  - Basic algorithmic thinking\n",
        "- Gain hands-on experience in writing Python code in Google Colab."
      ],
      "metadata": {
        "id": "J1nmc-Ma-G2O"
      }
    },
    {
      "cell_type": "markdown",
      "source": [
        "## Install the ColabTurtlePlus"
      ],
      "metadata": {
        "id": "umQf8X6MKick"
      }
    },
    {
      "cell_type": "code",
      "source": [
        "# Run the following installing code by clicking the play button to the left.\n",
        "%pip install git+https://github.com/mathriddle/ColabTurtlePlus.git"
      ],
      "metadata": {
        "id": "dEprueQ-Kiyc"
      },
      "execution_count": null,
      "outputs": []
    },
    {
      "cell_type": "markdown",
      "source": [
        "## Basic Movements"
      ],
      "metadata": {
        "id": "J3z_wfYijjHH"
      }
    },
    {
      "cell_type": "markdown",
      "source": [
        "## Tutorial 1: Draw Squares"
      ],
      "metadata": {
        "id": "eFBMP0yCGZo_"
      }
    },
    {
      "cell_type": "code",
      "source": [
        "from ColabTurtlePlus.Turtle import *\n",
        "\n",
        "# You must create your turtle by initializing one\n",
        "initializeTurtle()\n",
        "shape('turtle')\n",
        "# Set the background and pen color, for color names, refer to https://www.w3schools.com/colors/colors_names.asp\n",
        "bgcolor(\"aliceblue\")\n",
        "color(\"green\")\n",
        "\n",
        "# Set the speed for the turtle\n",
        "speed(5)\n",
        "\n",
        "# Set initial turtle position\n",
        "# Add a hashtag at the beginning of the line `penup()` to see what would happen if you forget to lift th pen before moving the turtle\n",
        "penup()\n",
        "\n",
        "# Moving the turtle to position of 0, 0\n",
        "goto(0,0)\n",
        "\n",
        "# Turning the turtle clockwisely in 90 degree\n",
        "right(90)\n",
        "\n",
        "# Parameter for length of a side\n",
        "length_square_side = 100\n",
        "\n",
        "# Draw a square\n",
        "# remember to put the pen down when drawing\n",
        "pendown()\n",
        "forward(length_square_side)\n",
        "right(90)\n",
        "forward(length_square_side)\n",
        "right(90)\n",
        "forward(length_square_side)\n",
        "right(90)\n",
        "forward(length_square_side)\n",
        "right(90)"
      ],
      "metadata": {
        "colab": {
          "base_uri": "https://localhost:8080/",
          "height": 621
        },
        "id": "wxmHiIXeF0VX",
        "outputId": "e642160d-5956-4b69-c161-81663aa56f1a"
      },
      "execution_count": 3,
      "outputs": [
        {
          "output_type": "display_data",
          "data": {
            "text/plain": [
              "<IPython.core.display.HTML object>"
            ],
            "text/html": [
              "\n",
              "      <svg width=\"800\" height=\"600\">  \n",
              "        <rect width=\"100%\" height=\"100%\" style=\"fill:aliceblue;stroke:;stroke-width:1\"/>\n",
              "        \n",
              "        \n",
              "        <line x1=\"400.0\" y1=\"300.0\" x2=\"400.0\" y2=\"400.0\" stroke-linecap=\"round\" style=\"stroke:green;stroke-width:1\" /><line x1=\"400.0\" y1=\"400.0\" x2=\"300.0\" y2=\"400.0\" stroke-linecap=\"round\" style=\"stroke:green;stroke-width:1\" /><line x1=\"300.0\" y1=\"400.0\" x2=\"300.0\" y2=\"300.0\" stroke-linecap=\"round\" style=\"stroke:green;stroke-width:1\" /><line x1=\"300.0\" y1=\"300.0\" x2=\"400.0\" y2=\"300.0\" stroke-linecap=\"round\" style=\"stroke:green;stroke-width:1\" />\n",
              "        \n",
              "        \n",
              "        <g id=\"turtle\" visibility=\"visible\" transform=\"rotate(90,400.0,300.0) translate(400.0, 300.0)\">\n",
              "<path style=\"stroke:green;fill-rule:evenodd;fill:green;fill-opacity:1;\" transform=\"skewX(0) scale(1,1)\" d=\"m 1.1536693,-18.56101 c -2.105469,1.167969 -3.203125,3.441407 -3.140625,6.5 l 0.011719,0.519532 -0.300782,-0.15625 c -1.308594,-0.671875 -2.828125,-0.824219 -4.378906,-0.429688 -1.9375,0.484375 -3.8906253,2.089844 -6.0117193,4.9257825 -1.332031,1.785156 -1.714843,2.644531 -1.351562,3.035156 l 0.113281,0.125 h 0.363281 c 0.71875,0 1.308594,-0.265625 4.6679693,-2.113282 1.199219,-0.660156 2.183594,-1.199218 2.191406,-1.199218 0.00781,0 -0.023437,0.089844 -0.074218,0.195312 -0.472657,1.058594 -1.046876,2.785156 -1.335938,4.042969 -1.054688,4.574219 -0.351562,8.453125 2.101562,11.582031 0.28125,0.355469 0.292969,0.253906 -0.097656,0.722656 -2.046875,2.4609375 -3.027344,4.8984375 -2.734375,6.8046875 0.050781,0.339844 0.042969,0.335938 0.679688,0.335938 2.023437,0 4.15625,-1.316407 6.21875,-3.835938 0.222656,-0.269531 0.191406,-0.261719 0.425781,-0.113281 0.730469,0.46875 2.460938,1.390625 2.613281,1.390625 0.160157,0 1.765625,-0.753906 2.652344,-1.246094 0.167969,-0.09375 0.308594,-0.164062 0.308594,-0.160156 0.066406,0.105468 0.761719,0.855468 1.085937,1.171875 1.613282,1.570312 3.339844,2.402343 5.3593747,2.570312 0.324219,0.02734 0.355469,0.0078 0.425781,-0.316406 0.375,-1.742187 -0.382812,-4.058594 -2.1445307,-6.5585935 l -0.320312,-0.457031 0.15625,-0.183594 c 3.2460927,-3.824218 3.4335927,-9.08593704 0.558593,-15.816406 l -0.050781,-0.125 1.7382807,0.859375 c 3.585938,1.773437 4.371094,2.097656 5.085938,2.097656 0.945312,0 0.75,-0.863281 -0.558594,-2.507812 C 11.458356,-11.838353 8.3333563,-13.268041 4.8607003,-11.721166 l -0.363281,0.164063 0.019531,-0.09375 c 0.121094,-0.550781 0.183594,-1.800781 0.121094,-2.378907 -0.203125,-1.867187 -1.035157,-3.199218 -2.695313,-4.308593 -0.523437,-0.351563 -0.546875,-0.355469 -0.789062,-0.222657\" />\n",
              "<animateTransform id = \"one\" attributeName=\"transform\" \n",
              "                      type=\"scale\"\n",
              "                      from=\"1 1\" to=\"1 1\"\n",
              "                      begin=\"0s\" dur=\"0.01s\"\n",
              "                      repeatCount=\"1\"\n",
              "                      additive=\"sum\"\n",
              "                      fill=\"freeze\"\n",
              "                /><animateTransform attributeName=\"transform\"\n",
              "                    type=\"rotate\"\n",
              "                    from=\"0 0 0\" to =\"90 0 0\"\n",
              "                    begin=\"one.end\" dur=\"0.25s\"\n",
              "                    repeatCount=\"1\"\n",
              "                    additive=\"sum\"\n",
              "                    fill=\"freeze\"\n",
              "                /></g>\n",
              "      </svg>\n",
              "    "
            ]
          },
          "metadata": {}
        }
      ]
    },
    {
      "cell_type": "markdown",
      "source": [
        "## Tasks for Squares\n",
        "\n"
      ],
      "metadata": {
        "id": "rMgaSlmyJLmR"
      }
    },
    {
      "cell_type": "markdown",
      "source": [
        "1. Draw a rectangle with a length of 80 and a width of 40."
      ],
      "metadata": {
        "id": "coj3ivCLS78y"
      }
    },
    {
      "cell_type": "code",
      "source": [
        "# Paste and modify your turtle code here:\n",
        "\n"
      ],
      "metadata": {
        "id": "a1QiBmUdS7zq"
      },
      "execution_count": null,
      "outputs": []
    },
    {
      "cell_type": "markdown",
      "source": [
        "2. Modify the code to draw a rectangle that matches the exact size of the canvas.\n",
        "*You gonna need to try and redo several times to reach the answer.*"
      ],
      "metadata": {
        "id": "WZ-uk-BTKTnV"
      }
    },
    {
      "cell_type": "code",
      "source": [
        "# Paste and modify your turtle code here:\n",
        "\n"
      ],
      "metadata": {
        "id": "rErynvKjJzM3"
      },
      "execution_count": null,
      "outputs": []
    },
    {
      "cell_type": "markdown",
      "source": [
        "## Tutorial 2: Dashes and Colors"
      ],
      "metadata": {
        "id": "ij0VlNi6Ti7W"
      }
    },
    {
      "cell_type": "code",
      "source": [
        "# Tutorial Code, please don't edit the code in this cell.\n",
        "from ColabTurtlePlus.Turtle import *\n",
        "\n",
        "initializeTurtle()\n",
        "shape('turtle')\n",
        "# Set the background and pen color, for color names, refer to https://www.w3schools.com/colors/colors_names.asp\n",
        "bgcolor(\"GhostWhite\")\n",
        "color(\"red\")\n",
        "speed(5)\n",
        "# Set initial turtle position\n",
        "penup()\n",
        "goto(-200, 0)\n",
        "\n",
        "# Parameters for dashed line\n",
        "dash_length = 20\n",
        "gap_length = 20\n",
        "color_palatte = ['red', 'blue']\n",
        "\n",
        "# Draw a dashed line\n",
        "for i in range(10):\n",
        "    pendown()\n",
        "    color(color_palatte[i % 2]) # the symble '%' means we want the reminder of i divide 2, which will always be 0 or 1 and not exceed the index of the color_palatte list.\n",
        "    forward(dash_length)\n",
        "    penup()\n",
        "    forward(gap_length)"
      ],
      "metadata": {
        "colab": {
          "base_uri": "https://localhost:8080/",
          "height": 621
        },
        "id": "6Es3JdZ4jlI0",
        "outputId": "662ec8fe-d53d-41ae-f692-1f8f0c36efa4"
      },
      "execution_count": 7,
      "outputs": [
        {
          "output_type": "display_data",
          "data": {
            "text/plain": [
              "<IPython.core.display.HTML object>"
            ],
            "text/html": [
              "\n",
              "      <svg width=\"800\" height=\"600\">  \n",
              "        <rect width=\"100%\" height=\"100%\" style=\"fill:ghostwhite;stroke:;stroke-width:1\"/>\n",
              "        \n",
              "        \n",
              "        <line x1=\"200.0\" y1=\"300.0\" x2=\"220.0\" y2=\"300.0\" stroke-linecap=\"round\" style=\"stroke:red;stroke-width:1\" /><line x1=\"240.0\" y1=\"300.0\" x2=\"260.0\" y2=\"300.0\" stroke-linecap=\"round\" style=\"stroke:blue;stroke-width:1\" /><line x1=\"280.0\" y1=\"300.0\" x2=\"300.0\" y2=\"300.0\" stroke-linecap=\"round\" style=\"stroke:red;stroke-width:1\" /><line x1=\"320.0\" y1=\"300.0\" x2=\"340.0\" y2=\"300.0\" stroke-linecap=\"round\" style=\"stroke:blue;stroke-width:1\" /><line x1=\"360.0\" y1=\"300.0\" x2=\"380.0\" y2=\"300.0\" stroke-linecap=\"round\" style=\"stroke:red;stroke-width:1\" /><line x1=\"400.0\" y1=\"300.0\" x2=\"420.0\" y2=\"300.0\" stroke-linecap=\"round\" style=\"stroke:blue;stroke-width:1\" /><line x1=\"440.0\" y1=\"300.0\" x2=\"460.0\" y2=\"300.0\" stroke-linecap=\"round\" style=\"stroke:red;stroke-width:1\" /><line x1=\"480.0\" y1=\"300.0\" x2=\"500.0\" y2=\"300.0\" stroke-linecap=\"round\" style=\"stroke:blue;stroke-width:1\" /><line x1=\"520.0\" y1=\"300.0\" x2=\"540.0\" y2=\"300.0\" stroke-linecap=\"round\" style=\"stroke:red;stroke-width:1\" /><line x1=\"560.0\" y1=\"300.0\" x2=\"580.0\" y2=\"300.0\" stroke-linecap=\"round\" style=\"stroke:blue;stroke-width:1\" />\n",
              "        \n",
              "        \n",
              "        <g id=\"turtle\" visibility=\"visible\" transform=\"rotate(90,600.0,300.0) translate(600.0, 300.0)\">\n",
              "<path style=\"stroke:blue;fill-rule:evenodd;fill:blue;fill-opacity:1;\" transform=\"skewX(0) scale(1,1)\" d=\"m 1.1536693,-18.56101 c -2.105469,1.167969 -3.203125,3.441407 -3.140625,6.5 l 0.011719,0.519532 -0.300782,-0.15625 c -1.308594,-0.671875 -2.828125,-0.824219 -4.378906,-0.429688 -1.9375,0.484375 -3.8906253,2.089844 -6.0117193,4.9257825 -1.332031,1.785156 -1.714843,2.644531 -1.351562,3.035156 l 0.113281,0.125 h 0.363281 c 0.71875,0 1.308594,-0.265625 4.6679693,-2.113282 1.199219,-0.660156 2.183594,-1.199218 2.191406,-1.199218 0.00781,0 -0.023437,0.089844 -0.074218,0.195312 -0.472657,1.058594 -1.046876,2.785156 -1.335938,4.042969 -1.054688,4.574219 -0.351562,8.453125 2.101562,11.582031 0.28125,0.355469 0.292969,0.253906 -0.097656,0.722656 -2.046875,2.4609375 -3.027344,4.8984375 -2.734375,6.8046875 0.050781,0.339844 0.042969,0.335938 0.679688,0.335938 2.023437,0 4.15625,-1.316407 6.21875,-3.835938 0.222656,-0.269531 0.191406,-0.261719 0.425781,-0.113281 0.730469,0.46875 2.460938,1.390625 2.613281,1.390625 0.160157,0 1.765625,-0.753906 2.652344,-1.246094 0.167969,-0.09375 0.308594,-0.164062 0.308594,-0.160156 0.066406,0.105468 0.761719,0.855468 1.085937,1.171875 1.613282,1.570312 3.339844,2.402343 5.3593747,2.570312 0.324219,0.02734 0.355469,0.0078 0.425781,-0.316406 0.375,-1.742187 -0.382812,-4.058594 -2.1445307,-6.5585935 l -0.320312,-0.457031 0.15625,-0.183594 c 3.2460927,-3.824218 3.4335927,-9.08593704 0.558593,-15.816406 l -0.050781,-0.125 1.7382807,0.859375 c 3.585938,1.773437 4.371094,2.097656 5.085938,2.097656 0.945312,0 0.75,-0.863281 -0.558594,-2.507812 C 11.458356,-11.838353 8.3333563,-13.268041 4.8607003,-11.721166 l -0.363281,0.164063 0.019531,-0.09375 c 0.121094,-0.550781 0.183594,-1.800781 0.121094,-2.378907 -0.203125,-1.867187 -1.035157,-3.199218 -2.695313,-4.308593 -0.523437,-0.351563 -0.546875,-0.355469 -0.789062,-0.222657\" />\n",
              "</g>\n",
              "      </svg>\n",
              "    "
            ]
          },
          "metadata": {}
        }
      ]
    },
    {
      "cell_type": "markdown",
      "source": [
        "## Tasks for Dashes and Colors"
      ],
      "metadata": {
        "id": "xx6fxiElYc1J"
      }
    },
    {
      "cell_type": "markdown",
      "source": [
        "1. Draw a square of the dashed lines as sides."
      ],
      "metadata": {
        "id": "TberZyQCYc1K"
      }
    },
    {
      "cell_type": "code",
      "source": [
        "# Paste and modify your turtle code here:\n",
        "\n"
      ],
      "metadata": {
        "id": "RHpSS92kYc1K"
      },
      "execution_count": null,
      "outputs": []
    },
    {
      "cell_type": "markdown",
      "source": [
        "2. Draw a square of colorful dashed lines with at least seven colors.\n",
        "*Please find the available color names in [HTML Color Names](https://www.w3schools.com/colors/colors_names.asp)*"
      ],
      "metadata": {
        "id": "ujM4nw_uYc1K"
      }
    },
    {
      "cell_type": "code",
      "source": [
        "# Paste and modify your turtle code here:\n",
        "\n"
      ],
      "metadata": {
        "id": "966mmAr0Yc1K"
      },
      "execution_count": null,
      "outputs": []
    },
    {
      "cell_type": "markdown",
      "source": [
        "## Tutorial 3: Fills and Loops"
      ],
      "metadata": {
        "id": "fVSedOk_ZoaZ"
      }
    },
    {
      "cell_type": "code",
      "source": [
        "from ColabTurtlePlus.Turtle import *\n",
        "\n",
        "initializeTurtle()\n",
        "shape('turtle')\n",
        "speed(5)\n",
        "\n",
        "# Set the background color, for color names, refer to https://www.w3schools.com/colors/colors_names.asp\n",
        "bgcolor(\"Cornsilk\")\n",
        "\n",
        "# Define three colors\n",
        "square_colors = [\"red\", \"green\", \"blue\"]\n",
        "\n",
        "# Move turtle to starting position\n",
        "penup()\n",
        "goto(-200, 0)  # Adjust starting position\n",
        "\n",
        "# Draw three filled squares\n",
        "for color in square_colors:\n",
        "   fillcolor(color)  # Set fill color\n",
        "   pencolor(color)   # Set pen color\n",
        "   begin_fill()      # Start filling\n",
        "   pendown()\n",
        "\n",
        "   # Draw a square with side length 60\n",
        "   for _ in range(4):\n",
        "       forward(60)   # Move forward\n",
        "       right(90)     # Turn right 90 degrees\n",
        "\n",
        "   end_fill()        # End filling\n",
        "   penup()\n",
        "   forward(60)       # Move right exactly the width of the square so they're adjacent"
      ],
      "metadata": {
        "colab": {
          "base_uri": "https://localhost:8080/",
          "height": 621
        },
        "id": "zSKljYLTZxhw",
        "outputId": "7664a0c6-2e9e-4618-9e29-dbed8a704f4d"
      },
      "execution_count": 9,
      "outputs": [
        {
          "output_type": "display_data",
          "data": {
            "text/plain": [
              "<IPython.core.display.HTML object>"
            ],
            "text/html": [
              "\n",
              "      <svg width=\"800\" height=\"600\">  \n",
              "        <rect width=\"100%\" height=\"100%\" style=\"fill:cornsilk;stroke:;stroke-width:1\"/>\n",
              "        \n",
              "        \n",
              "        <path fill-rule=\"evenodd\" fill-opacity=\"1\" d=\"M 200.0 300.0  L 260.0 300.0  L 260.0 360.0  L 200.0 360.0  L 200.0 300.0 \" stroke-linecap=\"round\" style=\"stroke:red;stroke-width:1\" fill=\"red\" /><path fill-rule=\"evenodd\" fill-opacity=\"1\" d=\"M 260.0 300.0  L 320.0 300.0  L 320.0 360.0  L 260.0 360.0  L 260.0 300.0 \" stroke-linecap=\"round\" style=\"stroke:green;stroke-width:1\" fill=\"green\" /><path fill-rule=\"evenodd\" fill-opacity=\"1\" d=\"M 320.0 300.0  L 380.0 300.0  L 380.0 360.0  L 320.0 360.0  L 320.0 300.0 \" stroke-linecap=\"round\" style=\"stroke:blue;stroke-width:1\" fill=\"blue\" />\n",
              "        \n",
              "        \n",
              "        <g id=\"turtle\" visibility=\"visible\" transform=\"rotate(90,380.0,300.0) translate(380.0, 300.0)\">\n",
              "<path style=\"stroke:blue;fill-rule:evenodd;fill:blue;fill-opacity:1;\" transform=\"skewX(0) scale(1,1)\" d=\"m 1.1536693,-18.56101 c -2.105469,1.167969 -3.203125,3.441407 -3.140625,6.5 l 0.011719,0.519532 -0.300782,-0.15625 c -1.308594,-0.671875 -2.828125,-0.824219 -4.378906,-0.429688 -1.9375,0.484375 -3.8906253,2.089844 -6.0117193,4.9257825 -1.332031,1.785156 -1.714843,2.644531 -1.351562,3.035156 l 0.113281,0.125 h 0.363281 c 0.71875,0 1.308594,-0.265625 4.6679693,-2.113282 1.199219,-0.660156 2.183594,-1.199218 2.191406,-1.199218 0.00781,0 -0.023437,0.089844 -0.074218,0.195312 -0.472657,1.058594 -1.046876,2.785156 -1.335938,4.042969 -1.054688,4.574219 -0.351562,8.453125 2.101562,11.582031 0.28125,0.355469 0.292969,0.253906 -0.097656,0.722656 -2.046875,2.4609375 -3.027344,4.8984375 -2.734375,6.8046875 0.050781,0.339844 0.042969,0.335938 0.679688,0.335938 2.023437,0 4.15625,-1.316407 6.21875,-3.835938 0.222656,-0.269531 0.191406,-0.261719 0.425781,-0.113281 0.730469,0.46875 2.460938,1.390625 2.613281,1.390625 0.160157,0 1.765625,-0.753906 2.652344,-1.246094 0.167969,-0.09375 0.308594,-0.164062 0.308594,-0.160156 0.066406,0.105468 0.761719,0.855468 1.085937,1.171875 1.613282,1.570312 3.339844,2.402343 5.3593747,2.570312 0.324219,0.02734 0.355469,0.0078 0.425781,-0.316406 0.375,-1.742187 -0.382812,-4.058594 -2.1445307,-6.5585935 l -0.320312,-0.457031 0.15625,-0.183594 c 3.2460927,-3.824218 3.4335927,-9.08593704 0.558593,-15.816406 l -0.050781,-0.125 1.7382807,0.859375 c 3.585938,1.773437 4.371094,2.097656 5.085938,2.097656 0.945312,0 0.75,-0.863281 -0.558594,-2.507812 C 11.458356,-11.838353 8.3333563,-13.268041 4.8607003,-11.721166 l -0.363281,0.164063 0.019531,-0.09375 c 0.121094,-0.550781 0.183594,-1.800781 0.121094,-2.378907 -0.203125,-1.867187 -1.035157,-3.199218 -2.695313,-4.308593 -0.523437,-0.351563 -0.546875,-0.355469 -0.789062,-0.222657\" />\n",
              "</g>\n",
              "      </svg>\n",
              "    "
            ]
          },
          "metadata": {}
        }
      ]
    },
    {
      "cell_type": "markdown",
      "source": [
        "## Tasks for Fills and Loops"
      ],
      "metadata": {
        "id": "bLQ72VZGAsNl"
      }
    },
    {
      "cell_type": "markdown",
      "source": [
        "1. Draw a chessboard with a background with colors of your choice. The board should be 8x8 squares filled with alternating black and white squares (or any other color pairs)."
      ],
      "metadata": {
        "id": "xBCpEppkVGTH"
      }
    },
    {
      "cell_type": "code",
      "source": [
        "# Input your turtle code here:\n",
        "\n"
      ],
      "metadata": {
        "id": "itPy8twTVGup"
      },
      "execution_count": null,
      "outputs": []
    },
    {
      "cell_type": "markdown",
      "source": [
        "2. Draw a pyramid with a base of 8 bricks, decreasing by one brick per level as it moves upward."
      ],
      "metadata": {
        "id": "KDAeVD9HWDw3"
      }
    },
    {
      "cell_type": "code",
      "source": [
        "# Input your turtle code here:\n",
        "\n"
      ],
      "metadata": {
        "id": "ZMYETY5DAwO7"
      },
      "execution_count": null,
      "outputs": []
    },
    {
      "cell_type": "markdown",
      "source": [
        "## Extra Tasks for Python Turtle"
      ],
      "metadata": {
        "id": "By103sG7Awal"
      }
    },
    {
      "cell_type": "markdown",
      "source": [
        "## Drawing a Heart"
      ],
      "metadata": {
        "id": "sU3iI5OfHpe5"
      }
    },
    {
      "cell_type": "code",
      "source": [
        "from ColabTurtlePlus.Turtle import *\n",
        "import math\n",
        "\n",
        "# Initialize the turtle\n",
        "initializeTurtle()\n",
        "\n",
        "# Set turtle shape and color\n",
        "shape('turtle')\n",
        "bgcolor(\"white\")\n",
        "color('red')\n",
        "speed(10)\n",
        "# Move to a suitable starting point\n",
        "penup()\n",
        "\n",
        "# Draw a heart shape\n",
        "for angle in range(360):  # Use 360 points to draw a smooth heart shape\n",
        "    t = math.radians(angle)  # Convert angle to radians\n",
        "    x = 16 * math.sin(t)**3  # X-coordinate formula for the heart shape\n",
        "    y = 13 * math.cos(t) - 5 * math.cos(2*t) - 2 * math.cos(3*t) - math.cos(4*t)  # Y-coordinate formula\n",
        "    goto(x * 10, y * 10)  # Scale up by 10 times to fit the canvas\n",
        "    pendown()"
      ],
      "metadata": {
        "colab": {
          "base_uri": "https://localhost:8080/",
          "height": 621
        },
        "id": "DA7mk_XuCigQ",
        "outputId": "c424123d-d6f1-46f6-996d-0624f560c9c2"
      },
      "execution_count": 8,
      "outputs": [
        {
          "output_type": "display_data",
          "data": {
            "text/plain": [
              "<IPython.core.display.HTML object>"
            ],
            "text/html": [
              "\n",
              "      <svg width=\"800\" height=\"600\">  \n",
              "        <rect width=\"100%\" height=\"100%\" style=\"fill:white;stroke:;stroke-width:1\"/>\n",
              "        \n",
              "        \n",
              "        <line x1=\"400.0\" y1=\"250.0\" x2=\"400.001\" y2=\"249.938\" stroke-linecap=\"round\" style=\"stroke:red;stroke-width:1\" /><line x1=\"400.001\" y1=\"249.938\" x2=\"400.007\" y2=\"249.751\" stroke-linecap=\"round\" style=\"stroke:red;stroke-width:1\" /><line x1=\"400.007\" y1=\"249.751\" x2=\"400.023\" y2=\"249.439\" stroke-linecap=\"round\" style=\"stroke:red;stroke-width:1\" /><line x1=\"400.023\" y1=\"249.439\" x2=\"400.054\" y2=\"249.006\" stroke-linecap=\"round\" style=\"stroke:red;stroke-width:1\" /><line x1=\"400.054\" y1=\"249.006\" x2=\"400.106\" y2=\"248.451\" stroke-linecap=\"round\" style=\"stroke:red;stroke-width:1\" /><line x1=\"400.106\" y1=\"248.451\" x2=\"400.183\" y2=\"247.776\" stroke-linecap=\"round\" style=\"stroke:red;stroke-width:1\" /><line x1=\"400.183\" y1=\"247.776\" x2=\"400.29\" y2=\"246.985\" stroke-linecap=\"round\" style=\"stroke:red;stroke-width:1\" /><line x1=\"400.29\" y1=\"246.985\" x2=\"400.431\" y2=\"246.08\" stroke-linecap=\"round\" style=\"stroke:red;stroke-width:1\" /><line x1=\"400.431\" y1=\"246.08\" x2=\"400.613\" y2=\"245.064\" stroke-linecap=\"round\" style=\"stroke:red;stroke-width:1\" /><line x1=\"400.613\" y1=\"245.064\" x2=\"400.838\" y2=\"243.941\" stroke-linecap=\"round\" style=\"stroke:red;stroke-width:1\" /><line x1=\"400.838\" y1=\"243.941\" x2=\"401.112\" y2=\"242.714\" stroke-linecap=\"round\" style=\"stroke:red;stroke-width:1\" /><line x1=\"401.112\" y1=\"242.714\" x2=\"401.438\" y2=\"241.39\" stroke-linecap=\"round\" style=\"stroke:red;stroke-width:1\" /><line x1=\"401.438\" y1=\"241.39\" x2=\"401.821\" y2=\"239.971\" stroke-linecap=\"round\" style=\"stroke:red;stroke-width:1\" /><line x1=\"401.821\" y1=\"239.971\" x2=\"402.265\" y2=\"238.464\" stroke-linecap=\"round\" style=\"stroke:red;stroke-width:1\" /><line x1=\"402.265\" y1=\"238.464\" x2=\"402.774\" y2=\"236.873\" stroke-linecap=\"round\" style=\"stroke:red;stroke-width:1\" /><line x1=\"402.774\" y1=\"236.873\" x2=\"403.351\" y2=\"235.205\" stroke-linecap=\"round\" style=\"stroke:red;stroke-width:1\" /><line x1=\"403.351\" y1=\"235.205\" x2=\"403.999\" y2=\"233.465\" stroke-linecap=\"round\" style=\"stroke:red;stroke-width:1\" /><line x1=\"403.999\" y1=\"233.465\" x2=\"404.721\" y2=\"231.659\" stroke-linecap=\"round\" style=\"stroke:red;stroke-width:1\" /><line x1=\"404.721\" y1=\"231.659\" x2=\"405.521\" y2=\"229.795\" stroke-linecap=\"round\" style=\"stroke:red;stroke-width:1\" /><line x1=\"405.521\" y1=\"229.795\" x2=\"406.401\" y2=\"227.879\" stroke-linecap=\"round\" style=\"stroke:red;stroke-width:1\" /><line x1=\"406.401\" y1=\"227.879\" x2=\"407.364\" y2=\"225.917\" stroke-linecap=\"round\" style=\"stroke:red;stroke-width:1\" /><line x1=\"407.364\" y1=\"225.917\" x2=\"408.411\" y2=\"223.917\" stroke-linecap=\"round\" style=\"stroke:red;stroke-width:1\" /><line x1=\"408.411\" y1=\"223.917\" x2=\"409.545\" y2=\"221.886\" stroke-linecap=\"round\" style=\"stroke:red;stroke-width:1\" /><line x1=\"409.545\" y1=\"221.886\" x2=\"410.766\" y2=\"219.831\" stroke-linecap=\"round\" style=\"stroke:red;stroke-width:1\" /><line x1=\"410.766\" y1=\"219.831\" x2=\"412.077\" y2=\"217.759\" stroke-linecap=\"round\" style=\"stroke:red;stroke-width:1\" /><line x1=\"412.077\" y1=\"217.759\" x2=\"413.479\" y2=\"215.679\" stroke-linecap=\"round\" style=\"stroke:red;stroke-width:1\" /><line x1=\"413.479\" y1=\"215.679\" x2=\"414.971\" y2=\"213.597\" stroke-linecap=\"round\" style=\"stroke:red;stroke-width:1\" /><line x1=\"414.971\" y1=\"213.597\" x2=\"416.556\" y2=\"211.521\" stroke-linecap=\"round\" style=\"stroke:red;stroke-width:1\" /><line x1=\"416.556\" y1=\"211.521\" x2=\"418.232\" y2=\"209.458\" stroke-linecap=\"round\" style=\"stroke:red;stroke-width:1\" /><line x1=\"418.232\" y1=\"209.458\" x2=\"420.0\" y2=\"207.417\" stroke-linecap=\"round\" style=\"stroke:red;stroke-width:1\" /><line x1=\"420.0\" y1=\"207.417\" x2=\"421.859\" y2=\"205.403\" stroke-linecap=\"round\" style=\"stroke:red;stroke-width:1\" /><line x1=\"421.859\" y1=\"205.403\" x2=\"423.809\" y2=\"203.425\" stroke-linecap=\"round\" style=\"stroke:red;stroke-width:1\" /><line x1=\"423.809\" y1=\"203.425\" x2=\"425.849\" y2=\"201.49\" stroke-linecap=\"round\" style=\"stroke:red;stroke-width:1\" /><line x1=\"425.849\" y1=\"201.49\" x2=\"427.977\" y2=\"199.604\" stroke-linecap=\"round\" style=\"stroke:red;stroke-width:1\" /><line x1=\"427.977\" y1=\"199.604\" x2=\"430.192\" y2=\"197.774\" stroke-linecap=\"round\" style=\"stroke:red;stroke-width:1\" /><line x1=\"430.192\" y1=\"197.774\" x2=\"432.492\" y2=\"196.008\" stroke-linecap=\"round\" style=\"stroke:red;stroke-width:1\" /><line x1=\"432.492\" y1=\"196.008\" x2=\"434.875\" y2=\"194.311\" stroke-linecap=\"round\" style=\"stroke:red;stroke-width:1\" /><line x1=\"434.875\" y1=\"194.311\" x2=\"437.338\" y2=\"192.69\" stroke-linecap=\"round\" style=\"stroke:red;stroke-width:1\" /><line x1=\"437.338\" y1=\"192.69\" x2=\"439.878\" y2=\"191.151\" stroke-linecap=\"round\" style=\"stroke:red;stroke-width:1\" /><line x1=\"439.878\" y1=\"191.151\" x2=\"442.493\" y2=\"189.7\" stroke-linecap=\"round\" style=\"stroke:red;stroke-width:1\" /><line x1=\"442.493\" y1=\"189.7\" x2=\"445.18\" y2=\"188.341\" stroke-linecap=\"round\" style=\"stroke:red;stroke-width:1\" /><line x1=\"445.18\" y1=\"188.341\" x2=\"447.935\" y2=\"187.08\" stroke-linecap=\"round\" style=\"stroke:red;stroke-width:1\" /><line x1=\"447.935\" y1=\"187.08\" x2=\"450.754\" y2=\"185.923\" stroke-linecap=\"round\" style=\"stroke:red;stroke-width:1\" /><line x1=\"450.754\" y1=\"185.923\" x2=\"453.633\" y2=\"184.873\" stroke-linecap=\"round\" style=\"stroke:red;stroke-width:1\" /><line x1=\"453.633\" y1=\"184.873\" x2=\"456.569\" y2=\"183.934\" stroke-linecap=\"round\" style=\"stroke:red;stroke-width:1\" /><line x1=\"456.569\" y1=\"183.934\" x2=\"459.556\" y2=\"183.111\" stroke-linecap=\"round\" style=\"stroke:red;stroke-width:1\" /><line x1=\"459.556\" y1=\"183.111\" x2=\"462.59\" y2=\"182.407\" stroke-linecap=\"round\" style=\"stroke:red;stroke-width:1\" /><line x1=\"462.59\" y1=\"182.407\" x2=\"465.666\" y2=\"181.825\" stroke-linecap=\"round\" style=\"stroke:red;stroke-width:1\" /><line x1=\"465.666\" y1=\"181.825\" x2=\"468.78\" y2=\"181.368\" stroke-linecap=\"round\" style=\"stroke:red;stroke-width:1\" /><line x1=\"468.78\" y1=\"181.368\" x2=\"471.925\" y2=\"181.038\" stroke-linecap=\"round\" style=\"stroke:red;stroke-width:1\" /><line x1=\"471.925\" y1=\"181.038\" x2=\"475.098\" y2=\"180.837\" stroke-linecap=\"round\" style=\"stroke:red;stroke-width:1\" /><line x1=\"475.098\" y1=\"180.837\" x2=\"478.292\" y2=\"180.768\" stroke-linecap=\"round\" style=\"stroke:red;stroke-width:1\" /><line x1=\"478.292\" y1=\"180.768\" x2=\"481.502\" y2=\"180.83\" stroke-linecap=\"round\" style=\"stroke:red;stroke-width:1\" /><line x1=\"481.502\" y1=\"180.83\" x2=\"484.721\" y2=\"181.026\" stroke-linecap=\"round\" style=\"stroke:red;stroke-width:1\" /><line x1=\"484.721\" y1=\"181.026\" x2=\"487.945\" y2=\"181.355\" stroke-linecap=\"round\" style=\"stroke:red;stroke-width:1\" /><line x1=\"487.945\" y1=\"181.355\" x2=\"491.168\" y2=\"181.818\" stroke-linecap=\"round\" style=\"stroke:red;stroke-width:1\" /><line x1=\"491.168\" y1=\"181.818\" x2=\"494.383\" y2=\"182.415\" stroke-linecap=\"round\" style=\"stroke:red;stroke-width:1\" /><line x1=\"494.383\" y1=\"182.415\" x2=\"497.585\" y2=\"183.145\" stroke-linecap=\"round\" style=\"stroke:red;stroke-width:1\" /><line x1=\"497.585\" y1=\"183.145\" x2=\"500.767\" y2=\"184.007\" stroke-linecap=\"round\" style=\"stroke:red;stroke-width:1\" /><line x1=\"500.767\" y1=\"184.007\" x2=\"503.923\" y2=\"185.0\" stroke-linecap=\"round\" style=\"stroke:red;stroke-width:1\" /><line x1=\"503.923\" y1=\"185.0\" x2=\"507.048\" y2=\"186.122\" stroke-linecap=\"round\" style=\"stroke:red;stroke-width:1\" /><line x1=\"507.048\" y1=\"186.122\" x2=\"510.135\" y2=\"187.373\" stroke-linecap=\"round\" style=\"stroke:red;stroke-width:1\" /><line x1=\"510.135\" y1=\"187.373\" x2=\"513.178\" y2=\"188.748\" stroke-linecap=\"round\" style=\"stroke:red;stroke-width:1\" /><line x1=\"513.178\" y1=\"188.748\" x2=\"516.172\" y2=\"190.247\" stroke-linecap=\"round\" style=\"stroke:red;stroke-width:1\" /><line x1=\"516.172\" y1=\"190.247\" x2=\"519.11\" y2=\"191.865\" stroke-linecap=\"round\" style=\"stroke:red;stroke-width:1\" /><line x1=\"519.11\" y1=\"191.865\" x2=\"521.986\" y2=\"193.601\" stroke-linecap=\"round\" style=\"stroke:red;stroke-width:1\" /><line x1=\"521.986\" y1=\"193.601\" x2=\"524.795\" y2=\"195.451\" stroke-linecap=\"round\" style=\"stroke:red;stroke-width:1\" /><line x1=\"524.795\" y1=\"195.451\" x2=\"527.532\" y2=\"197.412\" stroke-linecap=\"round\" style=\"stroke:red;stroke-width:1\" /><line x1=\"527.532\" y1=\"197.412\" x2=\"530.189\" y2=\"199.48\" stroke-linecap=\"round\" style=\"stroke:red;stroke-width:1\" /><line x1=\"530.189\" y1=\"199.48\" x2=\"532.763\" y2=\"201.651\" stroke-linecap=\"round\" style=\"stroke:red;stroke-width:1\" /><line x1=\"532.763\" y1=\"201.651\" x2=\"535.248\" y2=\"203.921\" stroke-linecap=\"round\" style=\"stroke:red;stroke-width:1\" /><line x1=\"535.248\" y1=\"203.921\" x2=\"537.638\" y2=\"206.287\" stroke-linecap=\"round\" style=\"stroke:red;stroke-width:1\" /><line x1=\"537.638\" y1=\"206.287\" x2=\"539.929\" y2=\"208.743\" stroke-linecap=\"round\" style=\"stroke:red;stroke-width:1\" /><line x1=\"539.929\" y1=\"208.743\" x2=\"542.117\" y2=\"211.286\" stroke-linecap=\"round\" style=\"stroke:red;stroke-width:1\" /><line x1=\"542.117\" y1=\"211.286\" x2=\"544.195\" y2=\"213.91\" stroke-linecap=\"round\" style=\"stroke:red;stroke-width:1\" /><line x1=\"544.195\" y1=\"213.91\" x2=\"546.161\" y2=\"216.612\" stroke-linecap=\"round\" style=\"stroke:red;stroke-width:1\" /><line x1=\"546.161\" y1=\"216.612\" x2=\"548.01\" y2=\"219.387\" stroke-linecap=\"round\" style=\"stroke:red;stroke-width:1\" /><line x1=\"548.01\" y1=\"219.387\" x2=\"549.738\" y2=\"222.23\" stroke-linecap=\"round\" style=\"stroke:red;stroke-width:1\" /><line x1=\"549.738\" y1=\"222.23\" x2=\"551.342\" y2=\"225.136\" stroke-linecap=\"round\" style=\"stroke:red;stroke-width:1\" /><line x1=\"551.342\" y1=\"225.136\" x2=\"552.818\" y2=\"228.102\" stroke-linecap=\"round\" style=\"stroke:red;stroke-width:1\" /><line x1=\"552.818\" y1=\"228.102\" x2=\"554.163\" y2=\"231.121\" stroke-linecap=\"round\" style=\"stroke:red;stroke-width:1\" /><line x1=\"554.163\" y1=\"231.121\" x2=\"555.374\" y2=\"234.19\" stroke-linecap=\"round\" style=\"stroke:red;stroke-width:1\" /><line x1=\"555.374\" y1=\"234.19\" x2=\"556.449\" y2=\"237.304\" stroke-linecap=\"round\" style=\"stroke:red;stroke-width:1\" /><line x1=\"556.449\" y1=\"237.304\" x2=\"557.385\" y2=\"240.459\" stroke-linecap=\"round\" style=\"stroke:red;stroke-width:1\" /><line x1=\"557.385\" y1=\"240.459\" x2=\"558.18\" y2=\"243.65\" stroke-linecap=\"round\" style=\"stroke:red;stroke-width:1\" /><line x1=\"558.18\" y1=\"243.65\" x2=\"558.834\" y2=\"246.873\" stroke-linecap=\"round\" style=\"stroke:red;stroke-width:1\" /><line x1=\"558.834\" y1=\"246.873\" x2=\"559.343\" y2=\"250.123\" stroke-linecap=\"round\" style=\"stroke:red;stroke-width:1\" /><line x1=\"559.343\" y1=\"250.123\" x2=\"559.708\" y2=\"253.397\" stroke-linecap=\"round\" style=\"stroke:red;stroke-width:1\" /><line x1=\"559.708\" y1=\"253.397\" x2=\"559.927\" y2=\"256.691\" stroke-linecap=\"round\" style=\"stroke:red;stroke-width:1\" /><line x1=\"559.927\" y1=\"256.691\" x2=\"560.0\" y2=\"260.0\" stroke-linecap=\"round\" style=\"stroke:red;stroke-width:1\" /><line x1=\"560.0\" y1=\"260.0\" x2=\"559.927\" y2=\"263.322\" stroke-linecap=\"round\" style=\"stroke:red;stroke-width:1\" /><line x1=\"559.927\" y1=\"263.322\" x2=\"559.708\" y2=\"266.652\" stroke-linecap=\"round\" style=\"stroke:red;stroke-width:1\" /><line x1=\"559.708\" y1=\"266.652\" x2=\"559.343\" y2=\"269.988\" stroke-linecap=\"round\" style=\"stroke:red;stroke-width:1\" /><line x1=\"559.343\" y1=\"269.988\" x2=\"558.834\" y2=\"273.326\" stroke-linecap=\"round\" style=\"stroke:red;stroke-width:1\" /><line x1=\"558.834\" y1=\"273.326\" x2=\"558.18\" y2=\"276.663\" stroke-linecap=\"round\" style=\"stroke:red;stroke-width:1\" /><line x1=\"558.18\" y1=\"276.663\" x2=\"557.385\" y2=\"279.997\" stroke-linecap=\"round\" style=\"stroke:red;stroke-width:1\" /><line x1=\"557.385\" y1=\"279.997\" x2=\"556.449\" y2=\"283.325\" stroke-linecap=\"round\" style=\"stroke:red;stroke-width:1\" /><line x1=\"556.449\" y1=\"283.325\" x2=\"555.374\" y2=\"286.645\" stroke-linecap=\"round\" style=\"stroke:red;stroke-width:1\" /><line x1=\"555.374\" y1=\"286.645\" x2=\"554.163\" y2=\"289.954\" stroke-linecap=\"round\" style=\"stroke:red;stroke-width:1\" /><line x1=\"554.163\" y1=\"289.954\" x2=\"552.818\" y2=\"293.25\" stroke-linecap=\"round\" style=\"stroke:red;stroke-width:1\" /><line x1=\"552.818\" y1=\"293.25\" x2=\"551.342\" y2=\"296.532\" stroke-linecap=\"round\" style=\"stroke:red;stroke-width:1\" /><line x1=\"551.342\" y1=\"296.532\" x2=\"549.738\" y2=\"299.798\" stroke-linecap=\"round\" style=\"stroke:red;stroke-width:1\" /><line x1=\"549.738\" y1=\"299.798\" x2=\"548.01\" y2=\"303.047\" stroke-linecap=\"round\" style=\"stroke:red;stroke-width:1\" /><line x1=\"548.01\" y1=\"303.047\" x2=\"546.161\" y2=\"306.277\" stroke-linecap=\"round\" style=\"stroke:red;stroke-width:1\" /><line x1=\"546.161\" y1=\"306.277\" x2=\"544.195\" y2=\"309.487\" stroke-linecap=\"round\" style=\"stroke:red;stroke-width:1\" /><line x1=\"544.195\" y1=\"309.487\" x2=\"542.117\" y2=\"312.677\" stroke-linecap=\"round\" style=\"stroke:red;stroke-width:1\" /><line x1=\"542.117\" y1=\"312.677\" x2=\"539.929\" y2=\"315.845\" stroke-linecap=\"round\" style=\"stroke:red;stroke-width:1\" /><line x1=\"539.929\" y1=\"315.845\" x2=\"537.638\" y2=\"318.992\" stroke-linecap=\"round\" style=\"stroke:red;stroke-width:1\" /><line x1=\"537.638\" y1=\"318.992\" x2=\"535.248\" y2=\"322.116\" stroke-linecap=\"round\" style=\"stroke:red;stroke-width:1\" /><line x1=\"535.248\" y1=\"322.116\" x2=\"532.763\" y2=\"325.217\" stroke-linecap=\"round\" style=\"stroke:red;stroke-width:1\" /><line x1=\"532.763\" y1=\"325.217\" x2=\"530.189\" y2=\"328.296\" stroke-linecap=\"round\" style=\"stroke:red;stroke-width:1\" /><line x1=\"530.189\" y1=\"328.296\" x2=\"527.532\" y2=\"331.352\" stroke-linecap=\"round\" style=\"stroke:red;stroke-width:1\" /><line x1=\"527.532\" y1=\"331.352\" x2=\"524.795\" y2=\"334.385\" stroke-linecap=\"round\" style=\"stroke:red;stroke-width:1\" /><line x1=\"524.795\" y1=\"334.385\" x2=\"521.986\" y2=\"337.395\" stroke-linecap=\"round\" style=\"stroke:red;stroke-width:1\" /><line x1=\"521.986\" y1=\"337.395\" x2=\"519.11\" y2=\"340.383\" stroke-linecap=\"round\" style=\"stroke:red;stroke-width:1\" /><line x1=\"519.11\" y1=\"340.383\" x2=\"516.172\" y2=\"343.349\" stroke-linecap=\"round\" style=\"stroke:red;stroke-width:1\" /><line x1=\"516.172\" y1=\"343.349\" x2=\"513.178\" y2=\"346.293\" stroke-linecap=\"round\" style=\"stroke:red;stroke-width:1\" /><line x1=\"513.178\" y1=\"346.293\" x2=\"510.135\" y2=\"349.216\" stroke-linecap=\"round\" style=\"stroke:red;stroke-width:1\" /><line x1=\"510.135\" y1=\"349.216\" x2=\"507.048\" y2=\"352.118\" stroke-linecap=\"round\" style=\"stroke:red;stroke-width:1\" /><line x1=\"507.048\" y1=\"352.118\" x2=\"503.923\" y2=\"355.0\" stroke-linecap=\"round\" style=\"stroke:red;stroke-width:1\" /><line x1=\"503.923\" y1=\"355.0\" x2=\"500.767\" y2=\"357.862\" stroke-linecap=\"round\" style=\"stroke:red;stroke-width:1\" /><line x1=\"500.767\" y1=\"357.862\" x2=\"497.585\" y2=\"360.705\" stroke-linecap=\"round\" style=\"stroke:red;stroke-width:1\" /><line x1=\"497.585\" y1=\"360.705\" x2=\"494.383\" y2=\"363.529\" stroke-linecap=\"round\" style=\"stroke:red;stroke-width:1\" /><line x1=\"494.383\" y1=\"363.529\" x2=\"491.168\" y2=\"366.334\" stroke-linecap=\"round\" style=\"stroke:red;stroke-width:1\" /><line x1=\"491.168\" y1=\"366.334\" x2=\"487.945\" y2=\"369.122\" stroke-linecap=\"round\" style=\"stroke:red;stroke-width:1\" /><line x1=\"487.945\" y1=\"369.122\" x2=\"484.721\" y2=\"371.892\" stroke-linecap=\"round\" style=\"stroke:red;stroke-width:1\" /><line x1=\"484.721\" y1=\"371.892\" x2=\"481.502\" y2=\"374.645\" stroke-linecap=\"round\" style=\"stroke:red;stroke-width:1\" /><line x1=\"481.502\" y1=\"374.645\" x2=\"478.292\" y2=\"377.381\" stroke-linecap=\"round\" style=\"stroke:red;stroke-width:1\" /><line x1=\"478.292\" y1=\"377.381\" x2=\"475.098\" y2=\"380.101\" stroke-linecap=\"round\" style=\"stroke:red;stroke-width:1\" /><line x1=\"475.098\" y1=\"380.101\" x2=\"471.925\" y2=\"382.804\" stroke-linecap=\"round\" style=\"stroke:red;stroke-width:1\" /><line x1=\"471.925\" y1=\"382.804\" x2=\"468.78\" y2=\"385.49\" stroke-linecap=\"round\" style=\"stroke:red;stroke-width:1\" /><line x1=\"468.78\" y1=\"385.49\" x2=\"465.666\" y2=\"388.159\" stroke-linecap=\"round\" style=\"stroke:red;stroke-width:1\" /><line x1=\"465.666\" y1=\"388.159\" x2=\"462.59\" y2=\"390.812\" stroke-linecap=\"round\" style=\"stroke:red;stroke-width:1\" /><line x1=\"462.59\" y1=\"390.812\" x2=\"459.556\" y2=\"393.448\" stroke-linecap=\"round\" style=\"stroke:red;stroke-width:1\" /><line x1=\"459.556\" y1=\"393.448\" x2=\"456.569\" y2=\"396.066\" stroke-linecap=\"round\" style=\"stroke:red;stroke-width:1\" /><line x1=\"456.569\" y1=\"396.066\" x2=\"453.633\" y2=\"398.666\" stroke-linecap=\"round\" style=\"stroke:red;stroke-width:1\" /><line x1=\"453.633\" y1=\"398.666\" x2=\"450.754\" y2=\"401.248\" stroke-linecap=\"round\" style=\"stroke:red;stroke-width:1\" /><line x1=\"450.754\" y1=\"401.248\" x2=\"447.935\" y2=\"403.809\" stroke-linecap=\"round\" style=\"stroke:red;stroke-width:1\" /><line x1=\"447.935\" y1=\"403.809\" x2=\"445.18\" y2=\"406.351\" stroke-linecap=\"round\" style=\"stroke:red;stroke-width:1\" /><line x1=\"445.18\" y1=\"406.351\" x2=\"442.493\" y2=\"408.871\" stroke-linecap=\"round\" style=\"stroke:red;stroke-width:1\" /><line x1=\"442.493\" y1=\"408.871\" x2=\"439.878\" y2=\"411.369\" stroke-linecap=\"round\" style=\"stroke:red;stroke-width:1\" /><line x1=\"439.878\" y1=\"411.369\" x2=\"437.338\" y2=\"413.843\" stroke-linecap=\"round\" style=\"stroke:red;stroke-width:1\" /><line x1=\"437.338\" y1=\"413.843\" x2=\"434.875\" y2=\"416.291\" stroke-linecap=\"round\" style=\"stroke:red;stroke-width:1\" /><line x1=\"434.875\" y1=\"416.291\" x2=\"432.492\" y2=\"418.713\" stroke-linecap=\"round\" style=\"stroke:red;stroke-width:1\" /><line x1=\"432.492\" y1=\"418.713\" x2=\"430.192\" y2=\"421.107\" stroke-linecap=\"round\" style=\"stroke:red;stroke-width:1\" /><line x1=\"430.192\" y1=\"421.107\" x2=\"427.977\" y2=\"423.47\" stroke-linecap=\"round\" style=\"stroke:red;stroke-width:1\" /><line x1=\"427.977\" y1=\"423.47\" x2=\"425.849\" y2=\"425.801\" stroke-linecap=\"round\" style=\"stroke:red;stroke-width:1\" /><line x1=\"425.849\" y1=\"425.801\" x2=\"423.809\" y2=\"428.099\" stroke-linecap=\"round\" style=\"stroke:red;stroke-width:1\" /><line x1=\"423.809\" y1=\"428.099\" x2=\"421.859\" y2=\"430.36\" stroke-linecap=\"round\" style=\"stroke:red;stroke-width:1\" /><line x1=\"421.859\" y1=\"430.36\" x2=\"420.0\" y2=\"432.583\" stroke-linecap=\"round\" style=\"stroke:red;stroke-width:1\" /><line x1=\"420.0\" y1=\"432.583\" x2=\"418.232\" y2=\"434.766\" stroke-linecap=\"round\" style=\"stroke:red;stroke-width:1\" /><line x1=\"418.232\" y1=\"434.766\" x2=\"416.556\" y2=\"436.906\" stroke-linecap=\"round\" style=\"stroke:red;stroke-width:1\" /><line x1=\"416.556\" y1=\"436.906\" x2=\"414.971\" y2=\"439.001\" stroke-linecap=\"round\" style=\"stroke:red;stroke-width:1\" /><line x1=\"414.971\" y1=\"439.001\" x2=\"413.479\" y2=\"441.049\" stroke-linecap=\"round\" style=\"stroke:red;stroke-width:1\" /><line x1=\"413.479\" y1=\"441.049\" x2=\"412.077\" y2=\"443.047\" stroke-linecap=\"round\" style=\"stroke:red;stroke-width:1\" /><line x1=\"412.077\" y1=\"443.047\" x2=\"410.766\" y2=\"444.992\" stroke-linecap=\"round\" style=\"stroke:red;stroke-width:1\" /><line x1=\"410.766\" y1=\"444.992\" x2=\"409.545\" y2=\"446.882\" stroke-linecap=\"round\" style=\"stroke:red;stroke-width:1\" /><line x1=\"409.545\" y1=\"446.882\" x2=\"408.411\" y2=\"448.715\" stroke-linecap=\"round\" style=\"stroke:red;stroke-width:1\" /><line x1=\"408.411\" y1=\"448.715\" x2=\"407.364\" y2=\"450.488\" stroke-linecap=\"round\" style=\"stroke:red;stroke-width:1\" /><line x1=\"407.364\" y1=\"450.488\" x2=\"406.401\" y2=\"452.199\" stroke-linecap=\"round\" style=\"stroke:red;stroke-width:1\" /><line x1=\"406.401\" y1=\"452.199\" x2=\"405.521\" y2=\"453.844\" stroke-linecap=\"round\" style=\"stroke:red;stroke-width:1\" /><line x1=\"405.521\" y1=\"453.844\" x2=\"404.721\" y2=\"455.423\" stroke-linecap=\"round\" style=\"stroke:red;stroke-width:1\" /><line x1=\"404.721\" y1=\"455.423\" x2=\"403.999\" y2=\"456.931\" stroke-linecap=\"round\" style=\"stroke:red;stroke-width:1\" /><line x1=\"403.999\" y1=\"456.931\" x2=\"403.351\" y2=\"458.368\" stroke-linecap=\"round\" style=\"stroke:red;stroke-width:1\" /><line x1=\"403.351\" y1=\"458.368\" x2=\"402.774\" y2=\"459.729\" stroke-linecap=\"round\" style=\"stroke:red;stroke-width:1\" /><line x1=\"402.774\" y1=\"459.729\" x2=\"402.265\" y2=\"461.015\" stroke-linecap=\"round\" style=\"stroke:red;stroke-width:1\" /><line x1=\"402.265\" y1=\"461.015\" x2=\"401.821\" y2=\"462.222\" stroke-linecap=\"round\" style=\"stroke:red;stroke-width:1\" /><line x1=\"401.821\" y1=\"462.222\" x2=\"401.438\" y2=\"463.347\" stroke-linecap=\"round\" style=\"stroke:red;stroke-width:1\" /><line x1=\"401.438\" y1=\"463.347\" x2=\"401.112\" y2=\"464.391\" stroke-linecap=\"round\" style=\"stroke:red;stroke-width:1\" /><line x1=\"401.112\" y1=\"464.391\" x2=\"400.838\" y2=\"465.35\" stroke-linecap=\"round\" style=\"stroke:red;stroke-width:1\" /><line x1=\"400.838\" y1=\"465.35\" x2=\"400.613\" y2=\"466.222\" stroke-linecap=\"round\" style=\"stroke:red;stroke-width:1\" /><line x1=\"400.613\" y1=\"466.222\" x2=\"400.431\" y2=\"467.008\" stroke-linecap=\"round\" style=\"stroke:red;stroke-width:1\" /><line x1=\"400.431\" y1=\"467.008\" x2=\"400.29\" y2=\"467.704\" stroke-linecap=\"round\" style=\"stroke:red;stroke-width:1\" /><line x1=\"400.29\" y1=\"467.704\" x2=\"400.183\" y2=\"468.31\" stroke-linecap=\"round\" style=\"stroke:red;stroke-width:1\" /><line x1=\"400.183\" y1=\"468.31\" x2=\"400.106\" y2=\"468.824\" stroke-linecap=\"round\" style=\"stroke:red;stroke-width:1\" /><line x1=\"400.106\" y1=\"468.824\" x2=\"400.054\" y2=\"469.246\" stroke-linecap=\"round\" style=\"stroke:red;stroke-width:1\" /><line x1=\"400.054\" y1=\"469.246\" x2=\"400.023\" y2=\"469.576\" stroke-linecap=\"round\" style=\"stroke:red;stroke-width:1\" /><line x1=\"400.023\" y1=\"469.576\" x2=\"400.007\" y2=\"469.811\" stroke-linecap=\"round\" style=\"stroke:red;stroke-width:1\" /><line x1=\"400.007\" y1=\"469.811\" x2=\"400.001\" y2=\"469.953\" stroke-linecap=\"round\" style=\"stroke:red;stroke-width:1\" /><line x1=\"400.001\" y1=\"469.953\" x2=\"400.0\" y2=\"470.0\" stroke-linecap=\"round\" style=\"stroke:red;stroke-width:1\" /><line x1=\"400.0\" y1=\"470.0\" x2=\"399.999\" y2=\"469.953\" stroke-linecap=\"round\" style=\"stroke:red;stroke-width:1\" /><line x1=\"399.999\" y1=\"469.953\" x2=\"399.993\" y2=\"469.811\" stroke-linecap=\"round\" style=\"stroke:red;stroke-width:1\" /><line x1=\"399.993\" y1=\"469.811\" x2=\"399.977\" y2=\"469.576\" stroke-linecap=\"round\" style=\"stroke:red;stroke-width:1\" /><line x1=\"399.977\" y1=\"469.576\" x2=\"399.946\" y2=\"469.246\" stroke-linecap=\"round\" style=\"stroke:red;stroke-width:1\" /><line x1=\"399.946\" y1=\"469.246\" x2=\"399.894\" y2=\"468.824\" stroke-linecap=\"round\" style=\"stroke:red;stroke-width:1\" /><line x1=\"399.894\" y1=\"468.824\" x2=\"399.817\" y2=\"468.31\" stroke-linecap=\"round\" style=\"stroke:red;stroke-width:1\" /><line x1=\"399.817\" y1=\"468.31\" x2=\"399.71\" y2=\"467.704\" stroke-linecap=\"round\" style=\"stroke:red;stroke-width:1\" /><line x1=\"399.71\" y1=\"467.704\" x2=\"399.569\" y2=\"467.008\" stroke-linecap=\"round\" style=\"stroke:red;stroke-width:1\" /><line x1=\"399.569\" y1=\"467.008\" x2=\"399.387\" y2=\"466.222\" stroke-linecap=\"round\" style=\"stroke:red;stroke-width:1\" /><line x1=\"399.387\" y1=\"466.222\" x2=\"399.162\" y2=\"465.35\" stroke-linecap=\"round\" style=\"stroke:red;stroke-width:1\" /><line x1=\"399.162\" y1=\"465.35\" x2=\"398.888\" y2=\"464.391\" stroke-linecap=\"round\" style=\"stroke:red;stroke-width:1\" /><line x1=\"398.888\" y1=\"464.391\" x2=\"398.562\" y2=\"463.347\" stroke-linecap=\"round\" style=\"stroke:red;stroke-width:1\" /><line x1=\"398.562\" y1=\"463.347\" x2=\"398.179\" y2=\"462.222\" stroke-linecap=\"round\" style=\"stroke:red;stroke-width:1\" /><line x1=\"398.179\" y1=\"462.222\" x2=\"397.735\" y2=\"461.015\" stroke-linecap=\"round\" style=\"stroke:red;stroke-width:1\" /><line x1=\"397.735\" y1=\"461.015\" x2=\"397.226\" y2=\"459.729\" stroke-linecap=\"round\" style=\"stroke:red;stroke-width:1\" /><line x1=\"397.226\" y1=\"459.729\" x2=\"396.649\" y2=\"458.368\" stroke-linecap=\"round\" style=\"stroke:red;stroke-width:1\" /><line x1=\"396.649\" y1=\"458.368\" x2=\"396.001\" y2=\"456.931\" stroke-linecap=\"round\" style=\"stroke:red;stroke-width:1\" /><line x1=\"396.001\" y1=\"456.931\" x2=\"395.279\" y2=\"455.423\" stroke-linecap=\"round\" style=\"stroke:red;stroke-width:1\" /><line x1=\"395.279\" y1=\"455.423\" x2=\"394.479\" y2=\"453.844\" stroke-linecap=\"round\" style=\"stroke:red;stroke-width:1\" /><line x1=\"394.479\" y1=\"453.844\" x2=\"393.599\" y2=\"452.199\" stroke-linecap=\"round\" style=\"stroke:red;stroke-width:1\" /><line x1=\"393.599\" y1=\"452.199\" x2=\"392.636\" y2=\"450.488\" stroke-linecap=\"round\" style=\"stroke:red;stroke-width:1\" /><line x1=\"392.636\" y1=\"450.488\" x2=\"391.589\" y2=\"448.715\" stroke-linecap=\"round\" style=\"stroke:red;stroke-width:1\" /><line x1=\"391.589\" y1=\"448.715\" x2=\"390.455\" y2=\"446.882\" stroke-linecap=\"round\" style=\"stroke:red;stroke-width:1\" /><line x1=\"390.455\" y1=\"446.882\" x2=\"389.234\" y2=\"444.992\" stroke-linecap=\"round\" style=\"stroke:red;stroke-width:1\" /><line x1=\"389.234\" y1=\"444.992\" x2=\"387.923\" y2=\"443.047\" stroke-linecap=\"round\" style=\"stroke:red;stroke-width:1\" /><line x1=\"387.923\" y1=\"443.047\" x2=\"386.521\" y2=\"441.049\" stroke-linecap=\"round\" style=\"stroke:red;stroke-width:1\" /><line x1=\"386.521\" y1=\"441.049\" x2=\"385.029\" y2=\"439.001\" stroke-linecap=\"round\" style=\"stroke:red;stroke-width:1\" /><line x1=\"385.029\" y1=\"439.001\" x2=\"383.444\" y2=\"436.906\" stroke-linecap=\"round\" style=\"stroke:red;stroke-width:1\" /><line x1=\"383.444\" y1=\"436.906\" x2=\"381.768\" y2=\"434.766\" stroke-linecap=\"round\" style=\"stroke:red;stroke-width:1\" /><line x1=\"381.768\" y1=\"434.766\" x2=\"380.0\" y2=\"432.583\" stroke-linecap=\"round\" style=\"stroke:red;stroke-width:1\" /><line x1=\"380.0\" y1=\"432.583\" x2=\"378.141\" y2=\"430.36\" stroke-linecap=\"round\" style=\"stroke:red;stroke-width:1\" /><line x1=\"378.141\" y1=\"430.36\" x2=\"376.191\" y2=\"428.099\" stroke-linecap=\"round\" style=\"stroke:red;stroke-width:1\" /><line x1=\"376.191\" y1=\"428.099\" x2=\"374.151\" y2=\"425.801\" stroke-linecap=\"round\" style=\"stroke:red;stroke-width:1\" /><line x1=\"374.151\" y1=\"425.801\" x2=\"372.023\" y2=\"423.47\" stroke-linecap=\"round\" style=\"stroke:red;stroke-width:1\" /><line x1=\"372.023\" y1=\"423.47\" x2=\"369.808\" y2=\"421.107\" stroke-linecap=\"round\" style=\"stroke:red;stroke-width:1\" /><line x1=\"369.808\" y1=\"421.107\" x2=\"367.508\" y2=\"418.713\" stroke-linecap=\"round\" style=\"stroke:red;stroke-width:1\" /><line x1=\"367.508\" y1=\"418.713\" x2=\"365.125\" y2=\"416.291\" stroke-linecap=\"round\" style=\"stroke:red;stroke-width:1\" /><line x1=\"365.125\" y1=\"416.291\" x2=\"362.662\" y2=\"413.843\" stroke-linecap=\"round\" style=\"stroke:red;stroke-width:1\" /><line x1=\"362.662\" y1=\"413.843\" x2=\"360.122\" y2=\"411.369\" stroke-linecap=\"round\" style=\"stroke:red;stroke-width:1\" /><line x1=\"360.122\" y1=\"411.369\" x2=\"357.507\" y2=\"408.871\" stroke-linecap=\"round\" style=\"stroke:red;stroke-width:1\" /><line x1=\"357.507\" y1=\"408.871\" x2=\"354.82\" y2=\"406.351\" stroke-linecap=\"round\" style=\"stroke:red;stroke-width:1\" /><line x1=\"354.82\" y1=\"406.351\" x2=\"352.065\" y2=\"403.809\" stroke-linecap=\"round\" style=\"stroke:red;stroke-width:1\" /><line x1=\"352.065\" y1=\"403.809\" x2=\"349.246\" y2=\"401.248\" stroke-linecap=\"round\" style=\"stroke:red;stroke-width:1\" /><line x1=\"349.246\" y1=\"401.248\" x2=\"346.367\" y2=\"398.666\" stroke-linecap=\"round\" style=\"stroke:red;stroke-width:1\" /><line x1=\"346.367\" y1=\"398.666\" x2=\"343.431\" y2=\"396.066\" stroke-linecap=\"round\" style=\"stroke:red;stroke-width:1\" /><line x1=\"343.431\" y1=\"396.066\" x2=\"340.444\" y2=\"393.448\" stroke-linecap=\"round\" style=\"stroke:red;stroke-width:1\" /><line x1=\"340.444\" y1=\"393.448\" x2=\"337.41\" y2=\"390.812\" stroke-linecap=\"round\" style=\"stroke:red;stroke-width:1\" /><line x1=\"337.41\" y1=\"390.812\" x2=\"334.334\" y2=\"388.159\" stroke-linecap=\"round\" style=\"stroke:red;stroke-width:1\" /><line x1=\"334.334\" y1=\"388.159\" x2=\"331.22\" y2=\"385.49\" stroke-linecap=\"round\" style=\"stroke:red;stroke-width:1\" /><line x1=\"331.22\" y1=\"385.49\" x2=\"328.075\" y2=\"382.804\" stroke-linecap=\"round\" style=\"stroke:red;stroke-width:1\" /><line x1=\"328.075\" y1=\"382.804\" x2=\"324.902\" y2=\"380.101\" stroke-linecap=\"round\" style=\"stroke:red;stroke-width:1\" /><line x1=\"324.902\" y1=\"380.101\" x2=\"321.708\" y2=\"377.381\" stroke-linecap=\"round\" style=\"stroke:red;stroke-width:1\" /><line x1=\"321.708\" y1=\"377.381\" x2=\"318.498\" y2=\"374.645\" stroke-linecap=\"round\" style=\"stroke:red;stroke-width:1\" /><line x1=\"318.498\" y1=\"374.645\" x2=\"315.279\" y2=\"371.892\" stroke-linecap=\"round\" style=\"stroke:red;stroke-width:1\" /><line x1=\"315.279\" y1=\"371.892\" x2=\"312.055\" y2=\"369.122\" stroke-linecap=\"round\" style=\"stroke:red;stroke-width:1\" /><line x1=\"312.055\" y1=\"369.122\" x2=\"308.832\" y2=\"366.334\" stroke-linecap=\"round\" style=\"stroke:red;stroke-width:1\" /><line x1=\"308.832\" y1=\"366.334\" x2=\"305.617\" y2=\"363.529\" stroke-linecap=\"round\" style=\"stroke:red;stroke-width:1\" /><line x1=\"305.617\" y1=\"363.529\" x2=\"302.415\" y2=\"360.705\" stroke-linecap=\"round\" style=\"stroke:red;stroke-width:1\" /><line x1=\"302.415\" y1=\"360.705\" x2=\"299.233\" y2=\"357.862\" stroke-linecap=\"round\" style=\"stroke:red;stroke-width:1\" /><line x1=\"299.233\" y1=\"357.862\" x2=\"296.077\" y2=\"355.0\" stroke-linecap=\"round\" style=\"stroke:red;stroke-width:1\" /><line x1=\"296.077\" y1=\"355.0\" x2=\"292.952\" y2=\"352.118\" stroke-linecap=\"round\" style=\"stroke:red;stroke-width:1\" /><line x1=\"292.952\" y1=\"352.118\" x2=\"289.865\" y2=\"349.216\" stroke-linecap=\"round\" style=\"stroke:red;stroke-width:1\" /><line x1=\"289.865\" y1=\"349.216\" x2=\"286.822\" y2=\"346.293\" stroke-linecap=\"round\" style=\"stroke:red;stroke-width:1\" /><line x1=\"286.822\" y1=\"346.293\" x2=\"283.828\" y2=\"343.349\" stroke-linecap=\"round\" style=\"stroke:red;stroke-width:1\" /><line x1=\"283.828\" y1=\"343.349\" x2=\"280.89\" y2=\"340.383\" stroke-linecap=\"round\" style=\"stroke:red;stroke-width:1\" /><line x1=\"280.89\" y1=\"340.383\" x2=\"278.014\" y2=\"337.395\" stroke-linecap=\"round\" style=\"stroke:red;stroke-width:1\" /><line x1=\"278.014\" y1=\"337.395\" x2=\"275.205\" y2=\"334.385\" stroke-linecap=\"round\" style=\"stroke:red;stroke-width:1\" /><line x1=\"275.205\" y1=\"334.385\" x2=\"272.468\" y2=\"331.352\" stroke-linecap=\"round\" style=\"stroke:red;stroke-width:1\" /><line x1=\"272.468\" y1=\"331.352\" x2=\"269.811\" y2=\"328.296\" stroke-linecap=\"round\" style=\"stroke:red;stroke-width:1\" /><line x1=\"269.811\" y1=\"328.296\" x2=\"267.237\" y2=\"325.217\" stroke-linecap=\"round\" style=\"stroke:red;stroke-width:1\" /><line x1=\"267.237\" y1=\"325.217\" x2=\"264.752\" y2=\"322.116\" stroke-linecap=\"round\" style=\"stroke:red;stroke-width:1\" /><line x1=\"264.752\" y1=\"322.116\" x2=\"262.362\" y2=\"318.992\" stroke-linecap=\"round\" style=\"stroke:red;stroke-width:1\" /><line x1=\"262.362\" y1=\"318.992\" x2=\"260.071\" y2=\"315.845\" stroke-linecap=\"round\" style=\"stroke:red;stroke-width:1\" /><line x1=\"260.071\" y1=\"315.845\" x2=\"257.883\" y2=\"312.677\" stroke-linecap=\"round\" style=\"stroke:red;stroke-width:1\" /><line x1=\"257.883\" y1=\"312.677\" x2=\"255.805\" y2=\"309.487\" stroke-linecap=\"round\" style=\"stroke:red;stroke-width:1\" /><line x1=\"255.805\" y1=\"309.487\" x2=\"253.839\" y2=\"306.277\" stroke-linecap=\"round\" style=\"stroke:red;stroke-width:1\" /><line x1=\"253.839\" y1=\"306.277\" x2=\"251.99\" y2=\"303.047\" stroke-linecap=\"round\" style=\"stroke:red;stroke-width:1\" /><line x1=\"251.99\" y1=\"303.047\" x2=\"250.262\" y2=\"299.798\" stroke-linecap=\"round\" style=\"stroke:red;stroke-width:1\" /><line x1=\"250.262\" y1=\"299.798\" x2=\"248.658\" y2=\"296.532\" stroke-linecap=\"round\" style=\"stroke:red;stroke-width:1\" /><line x1=\"248.658\" y1=\"296.532\" x2=\"247.182\" y2=\"293.25\" stroke-linecap=\"round\" style=\"stroke:red;stroke-width:1\" /><line x1=\"247.182\" y1=\"293.25\" x2=\"245.837\" y2=\"289.954\" stroke-linecap=\"round\" style=\"stroke:red;stroke-width:1\" /><line x1=\"245.837\" y1=\"289.954\" x2=\"244.626\" y2=\"286.645\" stroke-linecap=\"round\" style=\"stroke:red;stroke-width:1\" /><line x1=\"244.626\" y1=\"286.645\" x2=\"243.551\" y2=\"283.325\" stroke-linecap=\"round\" style=\"stroke:red;stroke-width:1\" /><line x1=\"243.551\" y1=\"283.325\" x2=\"242.615\" y2=\"279.997\" stroke-linecap=\"round\" style=\"stroke:red;stroke-width:1\" /><line x1=\"242.615\" y1=\"279.997\" x2=\"241.82\" y2=\"276.663\" stroke-linecap=\"round\" style=\"stroke:red;stroke-width:1\" /><line x1=\"241.82\" y1=\"276.663\" x2=\"241.166\" y2=\"273.326\" stroke-linecap=\"round\" style=\"stroke:red;stroke-width:1\" /><line x1=\"241.166\" y1=\"273.326\" x2=\"240.657\" y2=\"269.988\" stroke-linecap=\"round\" style=\"stroke:red;stroke-width:1\" /><line x1=\"240.657\" y1=\"269.988\" x2=\"240.292\" y2=\"266.652\" stroke-linecap=\"round\" style=\"stroke:red;stroke-width:1\" /><line x1=\"240.292\" y1=\"266.652\" x2=\"240.073\" y2=\"263.322\" stroke-linecap=\"round\" style=\"stroke:red;stroke-width:1\" /><line x1=\"240.073\" y1=\"263.322\" x2=\"240.0\" y2=\"260.0\" stroke-linecap=\"round\" style=\"stroke:red;stroke-width:1\" /><line x1=\"240.0\" y1=\"260.0\" x2=\"240.073\" y2=\"256.691\" stroke-linecap=\"round\" style=\"stroke:red;stroke-width:1\" /><line x1=\"240.073\" y1=\"256.691\" x2=\"240.292\" y2=\"253.397\" stroke-linecap=\"round\" style=\"stroke:red;stroke-width:1\" /><line x1=\"240.292\" y1=\"253.397\" x2=\"240.657\" y2=\"250.123\" stroke-linecap=\"round\" style=\"stroke:red;stroke-width:1\" /><line x1=\"240.657\" y1=\"250.123\" x2=\"241.166\" y2=\"246.873\" stroke-linecap=\"round\" style=\"stroke:red;stroke-width:1\" /><line x1=\"241.166\" y1=\"246.873\" x2=\"241.82\" y2=\"243.65\" stroke-linecap=\"round\" style=\"stroke:red;stroke-width:1\" /><line x1=\"241.82\" y1=\"243.65\" x2=\"242.615\" y2=\"240.459\" stroke-linecap=\"round\" style=\"stroke:red;stroke-width:1\" /><line x1=\"242.615\" y1=\"240.459\" x2=\"243.551\" y2=\"237.304\" stroke-linecap=\"round\" style=\"stroke:red;stroke-width:1\" /><line x1=\"243.551\" y1=\"237.304\" x2=\"244.626\" y2=\"234.19\" stroke-linecap=\"round\" style=\"stroke:red;stroke-width:1\" /><line x1=\"244.626\" y1=\"234.19\" x2=\"245.837\" y2=\"231.121\" stroke-linecap=\"round\" style=\"stroke:red;stroke-width:1\" /><line x1=\"245.837\" y1=\"231.121\" x2=\"247.182\" y2=\"228.102\" stroke-linecap=\"round\" style=\"stroke:red;stroke-width:1\" /><line x1=\"247.182\" y1=\"228.102\" x2=\"248.658\" y2=\"225.136\" stroke-linecap=\"round\" style=\"stroke:red;stroke-width:1\" /><line x1=\"248.658\" y1=\"225.136\" x2=\"250.262\" y2=\"222.23\" stroke-linecap=\"round\" style=\"stroke:red;stroke-width:1\" /><line x1=\"250.262\" y1=\"222.23\" x2=\"251.99\" y2=\"219.387\" stroke-linecap=\"round\" style=\"stroke:red;stroke-width:1\" /><line x1=\"251.99\" y1=\"219.387\" x2=\"253.839\" y2=\"216.612\" stroke-linecap=\"round\" style=\"stroke:red;stroke-width:1\" /><line x1=\"253.839\" y1=\"216.612\" x2=\"255.805\" y2=\"213.91\" stroke-linecap=\"round\" style=\"stroke:red;stroke-width:1\" /><line x1=\"255.805\" y1=\"213.91\" x2=\"257.883\" y2=\"211.286\" stroke-linecap=\"round\" style=\"stroke:red;stroke-width:1\" /><line x1=\"257.883\" y1=\"211.286\" x2=\"260.071\" y2=\"208.743\" stroke-linecap=\"round\" style=\"stroke:red;stroke-width:1\" /><line x1=\"260.071\" y1=\"208.743\" x2=\"262.362\" y2=\"206.287\" stroke-linecap=\"round\" style=\"stroke:red;stroke-width:1\" /><line x1=\"262.362\" y1=\"206.287\" x2=\"264.752\" y2=\"203.921\" stroke-linecap=\"round\" style=\"stroke:red;stroke-width:1\" /><line x1=\"264.752\" y1=\"203.921\" x2=\"267.237\" y2=\"201.651\" stroke-linecap=\"round\" style=\"stroke:red;stroke-width:1\" /><line x1=\"267.237\" y1=\"201.651\" x2=\"269.811\" y2=\"199.48\" stroke-linecap=\"round\" style=\"stroke:red;stroke-width:1\" /><line x1=\"269.811\" y1=\"199.48\" x2=\"272.468\" y2=\"197.412\" stroke-linecap=\"round\" style=\"stroke:red;stroke-width:1\" /><line x1=\"272.468\" y1=\"197.412\" x2=\"275.205\" y2=\"195.451\" stroke-linecap=\"round\" style=\"stroke:red;stroke-width:1\" /><line x1=\"275.205\" y1=\"195.451\" x2=\"278.014\" y2=\"193.601\" stroke-linecap=\"round\" style=\"stroke:red;stroke-width:1\" /><line x1=\"278.014\" y1=\"193.601\" x2=\"280.89\" y2=\"191.865\" stroke-linecap=\"round\" style=\"stroke:red;stroke-width:1\" /><line x1=\"280.89\" y1=\"191.865\" x2=\"283.828\" y2=\"190.247\" stroke-linecap=\"round\" style=\"stroke:red;stroke-width:1\" /><line x1=\"283.828\" y1=\"190.247\" x2=\"286.822\" y2=\"188.748\" stroke-linecap=\"round\" style=\"stroke:red;stroke-width:1\" /><line x1=\"286.822\" y1=\"188.748\" x2=\"289.865\" y2=\"187.373\" stroke-linecap=\"round\" style=\"stroke:red;stroke-width:1\" /><line x1=\"289.865\" y1=\"187.373\" x2=\"292.952\" y2=\"186.122\" stroke-linecap=\"round\" style=\"stroke:red;stroke-width:1\" /><line x1=\"292.952\" y1=\"186.122\" x2=\"296.077\" y2=\"185.0\" stroke-linecap=\"round\" style=\"stroke:red;stroke-width:1\" /><line x1=\"296.077\" y1=\"185.0\" x2=\"299.233\" y2=\"184.007\" stroke-linecap=\"round\" style=\"stroke:red;stroke-width:1\" /><line x1=\"299.233\" y1=\"184.007\" x2=\"302.415\" y2=\"183.145\" stroke-linecap=\"round\" style=\"stroke:red;stroke-width:1\" /><line x1=\"302.415\" y1=\"183.145\" x2=\"305.617\" y2=\"182.415\" stroke-linecap=\"round\" style=\"stroke:red;stroke-width:1\" /><line x1=\"305.617\" y1=\"182.415\" x2=\"308.832\" y2=\"181.818\" stroke-linecap=\"round\" style=\"stroke:red;stroke-width:1\" /><line x1=\"308.832\" y1=\"181.818\" x2=\"312.055\" y2=\"181.355\" stroke-linecap=\"round\" style=\"stroke:red;stroke-width:1\" /><line x1=\"312.055\" y1=\"181.355\" x2=\"315.279\" y2=\"181.026\" stroke-linecap=\"round\" style=\"stroke:red;stroke-width:1\" /><line x1=\"315.279\" y1=\"181.026\" x2=\"318.498\" y2=\"180.83\" stroke-linecap=\"round\" style=\"stroke:red;stroke-width:1\" /><line x1=\"318.498\" y1=\"180.83\" x2=\"321.708\" y2=\"180.768\" stroke-linecap=\"round\" style=\"stroke:red;stroke-width:1\" /><line x1=\"321.708\" y1=\"180.768\" x2=\"324.902\" y2=\"180.837\" stroke-linecap=\"round\" style=\"stroke:red;stroke-width:1\" /><line x1=\"324.902\" y1=\"180.837\" x2=\"328.075\" y2=\"181.038\" stroke-linecap=\"round\" style=\"stroke:red;stroke-width:1\" /><line x1=\"328.075\" y1=\"181.038\" x2=\"331.22\" y2=\"181.368\" stroke-linecap=\"round\" style=\"stroke:red;stroke-width:1\" /><line x1=\"331.22\" y1=\"181.368\" x2=\"334.334\" y2=\"181.825\" stroke-linecap=\"round\" style=\"stroke:red;stroke-width:1\" /><line x1=\"334.334\" y1=\"181.825\" x2=\"337.41\" y2=\"182.407\" stroke-linecap=\"round\" style=\"stroke:red;stroke-width:1\" /><line x1=\"337.41\" y1=\"182.407\" x2=\"340.444\" y2=\"183.111\" stroke-linecap=\"round\" style=\"stroke:red;stroke-width:1\" /><line x1=\"340.444\" y1=\"183.111\" x2=\"343.431\" y2=\"183.934\" stroke-linecap=\"round\" style=\"stroke:red;stroke-width:1\" /><line x1=\"343.431\" y1=\"183.934\" x2=\"346.367\" y2=\"184.873\" stroke-linecap=\"round\" style=\"stroke:red;stroke-width:1\" /><line x1=\"346.367\" y1=\"184.873\" x2=\"349.246\" y2=\"185.923\" stroke-linecap=\"round\" style=\"stroke:red;stroke-width:1\" /><line x1=\"349.246\" y1=\"185.923\" x2=\"352.065\" y2=\"187.08\" stroke-linecap=\"round\" style=\"stroke:red;stroke-width:1\" /><line x1=\"352.065\" y1=\"187.08\" x2=\"354.82\" y2=\"188.341\" stroke-linecap=\"round\" style=\"stroke:red;stroke-width:1\" /><line x1=\"354.82\" y1=\"188.341\" x2=\"357.507\" y2=\"189.7\" stroke-linecap=\"round\" style=\"stroke:red;stroke-width:1\" /><line x1=\"357.507\" y1=\"189.7\" x2=\"360.122\" y2=\"191.151\" stroke-linecap=\"round\" style=\"stroke:red;stroke-width:1\" /><line x1=\"360.122\" y1=\"191.151\" x2=\"362.662\" y2=\"192.69\" stroke-linecap=\"round\" style=\"stroke:red;stroke-width:1\" /><line x1=\"362.662\" y1=\"192.69\" x2=\"365.125\" y2=\"194.311\" stroke-linecap=\"round\" style=\"stroke:red;stroke-width:1\" /><line x1=\"365.125\" y1=\"194.311\" x2=\"367.508\" y2=\"196.008\" stroke-linecap=\"round\" style=\"stroke:red;stroke-width:1\" /><line x1=\"367.508\" y1=\"196.008\" x2=\"369.808\" y2=\"197.774\" stroke-linecap=\"round\" style=\"stroke:red;stroke-width:1\" /><line x1=\"369.808\" y1=\"197.774\" x2=\"372.023\" y2=\"199.604\" stroke-linecap=\"round\" style=\"stroke:red;stroke-width:1\" /><line x1=\"372.023\" y1=\"199.604\" x2=\"374.151\" y2=\"201.49\" stroke-linecap=\"round\" style=\"stroke:red;stroke-width:1\" /><line x1=\"374.151\" y1=\"201.49\" x2=\"376.191\" y2=\"203.425\" stroke-linecap=\"round\" style=\"stroke:red;stroke-width:1\" /><line x1=\"376.191\" y1=\"203.425\" x2=\"378.141\" y2=\"205.403\" stroke-linecap=\"round\" style=\"stroke:red;stroke-width:1\" /><line x1=\"378.141\" y1=\"205.403\" x2=\"380.0\" y2=\"207.417\" stroke-linecap=\"round\" style=\"stroke:red;stroke-width:1\" /><line x1=\"380.0\" y1=\"207.417\" x2=\"381.768\" y2=\"209.458\" stroke-linecap=\"round\" style=\"stroke:red;stroke-width:1\" /><line x1=\"381.768\" y1=\"209.458\" x2=\"383.444\" y2=\"211.521\" stroke-linecap=\"round\" style=\"stroke:red;stroke-width:1\" /><line x1=\"383.444\" y1=\"211.521\" x2=\"385.029\" y2=\"213.597\" stroke-linecap=\"round\" style=\"stroke:red;stroke-width:1\" /><line x1=\"385.029\" y1=\"213.597\" x2=\"386.521\" y2=\"215.679\" stroke-linecap=\"round\" style=\"stroke:red;stroke-width:1\" /><line x1=\"386.521\" y1=\"215.679\" x2=\"387.923\" y2=\"217.759\" stroke-linecap=\"round\" style=\"stroke:red;stroke-width:1\" /><line x1=\"387.923\" y1=\"217.759\" x2=\"389.234\" y2=\"219.831\" stroke-linecap=\"round\" style=\"stroke:red;stroke-width:1\" /><line x1=\"389.234\" y1=\"219.831\" x2=\"390.455\" y2=\"221.886\" stroke-linecap=\"round\" style=\"stroke:red;stroke-width:1\" /><line x1=\"390.455\" y1=\"221.886\" x2=\"391.589\" y2=\"223.917\" stroke-linecap=\"round\" style=\"stroke:red;stroke-width:1\" /><line x1=\"391.589\" y1=\"223.917\" x2=\"392.636\" y2=\"225.917\" stroke-linecap=\"round\" style=\"stroke:red;stroke-width:1\" /><line x1=\"392.636\" y1=\"225.917\" x2=\"393.599\" y2=\"227.879\" stroke-linecap=\"round\" style=\"stroke:red;stroke-width:1\" /><line x1=\"393.599\" y1=\"227.879\" x2=\"394.479\" y2=\"229.795\" stroke-linecap=\"round\" style=\"stroke:red;stroke-width:1\" /><line x1=\"394.479\" y1=\"229.795\" x2=\"395.279\" y2=\"231.659\" stroke-linecap=\"round\" style=\"stroke:red;stroke-width:1\" /><line x1=\"395.279\" y1=\"231.659\" x2=\"396.001\" y2=\"233.465\" stroke-linecap=\"round\" style=\"stroke:red;stroke-width:1\" /><line x1=\"396.001\" y1=\"233.465\" x2=\"396.649\" y2=\"235.205\" stroke-linecap=\"round\" style=\"stroke:red;stroke-width:1\" /><line x1=\"396.649\" y1=\"235.205\" x2=\"397.226\" y2=\"236.873\" stroke-linecap=\"round\" style=\"stroke:red;stroke-width:1\" /><line x1=\"397.226\" y1=\"236.873\" x2=\"397.735\" y2=\"238.464\" stroke-linecap=\"round\" style=\"stroke:red;stroke-width:1\" /><line x1=\"397.735\" y1=\"238.464\" x2=\"398.179\" y2=\"239.971\" stroke-linecap=\"round\" style=\"stroke:red;stroke-width:1\" /><line x1=\"398.179\" y1=\"239.971\" x2=\"398.562\" y2=\"241.39\" stroke-linecap=\"round\" style=\"stroke:red;stroke-width:1\" /><line x1=\"398.562\" y1=\"241.39\" x2=\"398.888\" y2=\"242.714\" stroke-linecap=\"round\" style=\"stroke:red;stroke-width:1\" /><line x1=\"398.888\" y1=\"242.714\" x2=\"399.162\" y2=\"243.941\" stroke-linecap=\"round\" style=\"stroke:red;stroke-width:1\" /><line x1=\"399.162\" y1=\"243.941\" x2=\"399.387\" y2=\"245.064\" stroke-linecap=\"round\" style=\"stroke:red;stroke-width:1\" /><line x1=\"399.387\" y1=\"245.064\" x2=\"399.569\" y2=\"246.08\" stroke-linecap=\"round\" style=\"stroke:red;stroke-width:1\" /><line x1=\"399.569\" y1=\"246.08\" x2=\"399.71\" y2=\"246.985\" stroke-linecap=\"round\" style=\"stroke:red;stroke-width:1\" /><line x1=\"399.71\" y1=\"246.985\" x2=\"399.817\" y2=\"247.776\" stroke-linecap=\"round\" style=\"stroke:red;stroke-width:1\" /><line x1=\"399.817\" y1=\"247.776\" x2=\"399.894\" y2=\"248.451\" stroke-linecap=\"round\" style=\"stroke:red;stroke-width:1\" /><line x1=\"399.894\" y1=\"248.451\" x2=\"399.946\" y2=\"249.006\" stroke-linecap=\"round\" style=\"stroke:red;stroke-width:1\" /><line x1=\"399.946\" y1=\"249.006\" x2=\"399.977\" y2=\"249.439\" stroke-linecap=\"round\" style=\"stroke:red;stroke-width:1\" /><line x1=\"399.977\" y1=\"249.439\" x2=\"399.993\" y2=\"249.751\" stroke-linecap=\"round\" style=\"stroke:red;stroke-width:1\" /><line x1=\"399.993\" y1=\"249.751\" x2=\"399.9991494775575\" y2=\"249.93757218315713\" stroke-linecap=\"round\" style=\"stroke:red;stroke-width:1\" />\n",
              "        \n",
              "        \n",
              "        <g id=\"turtle\" visibility=\"visible\" transform=\"rotate(450.0,399.9991494775575,249.93757218315713) translate(399.9991494775575, 249.93757218315713)\">\n",
              "<path style=\"stroke:red;fill-rule:evenodd;fill:red;fill-opacity:1;\" transform=\"skewX(0) scale(1,1)\" d=\"m 1.1536693,-18.56101 c -2.105469,1.167969 -3.203125,3.441407 -3.140625,6.5 l 0.011719,0.519532 -0.300782,-0.15625 c -1.308594,-0.671875 -2.828125,-0.824219 -4.378906,-0.429688 -1.9375,0.484375 -3.8906253,2.089844 -6.0117193,4.9257825 -1.332031,1.785156 -1.714843,2.644531 -1.351562,3.035156 l 0.113281,0.125 h 0.363281 c 0.71875,0 1.308594,-0.265625 4.6679693,-2.113282 1.199219,-0.660156 2.183594,-1.199218 2.191406,-1.199218 0.00781,0 -0.023437,0.089844 -0.074218,0.195312 -0.472657,1.058594 -1.046876,2.785156 -1.335938,4.042969 -1.054688,4.574219 -0.351562,8.453125 2.101562,11.582031 0.28125,0.355469 0.292969,0.253906 -0.097656,0.722656 -2.046875,2.4609375 -3.027344,4.8984375 -2.734375,6.8046875 0.050781,0.339844 0.042969,0.335938 0.679688,0.335938 2.023437,0 4.15625,-1.316407 6.21875,-3.835938 0.222656,-0.269531 0.191406,-0.261719 0.425781,-0.113281 0.730469,0.46875 2.460938,1.390625 2.613281,1.390625 0.160157,0 1.765625,-0.753906 2.652344,-1.246094 0.167969,-0.09375 0.308594,-0.164062 0.308594,-0.160156 0.066406,0.105468 0.761719,0.855468 1.085937,1.171875 1.613282,1.570312 3.339844,2.402343 5.3593747,2.570312 0.324219,0.02734 0.355469,0.0078 0.425781,-0.316406 0.375,-1.742187 -0.382812,-4.058594 -2.1445307,-6.5585935 l -0.320312,-0.457031 0.15625,-0.183594 c 3.2460927,-3.824218 3.4335927,-9.08593704 0.558593,-15.816406 l -0.050781,-0.125 1.7382807,0.859375 c 3.585938,1.773437 4.371094,2.097656 5.085938,2.097656 0.945312,0 0.75,-0.863281 -0.558594,-2.507812 C 11.458356,-11.838353 8.3333563,-13.268041 4.8607003,-11.721166 l -0.363281,0.164063 0.019531,-0.09375 c 0.121094,-0.550781 0.183594,-1.800781 0.121094,-2.378907 -0.203125,-1.867187 -1.035157,-3.199218 -2.695313,-4.308593 -0.523437,-0.351563 -0.546875,-0.355469 -0.789062,-0.222657\" />\n",
              "</g>\n",
              "      </svg>\n",
              "    "
            ]
          },
          "metadata": {}
        }
      ]
    },
    {
      "cell_type": "markdown",
      "source": [
        "1. Draw the initials of your name within the heart."
      ],
      "metadata": {
        "id": "Zc2ge1IxA1pZ"
      }
    },
    {
      "cell_type": "code",
      "source": [
        "# Input your code here:\n",
        "\n"
      ],
      "metadata": {
        "id": "PXmhC7bBA1En"
      },
      "execution_count": null,
      "outputs": []
    },
    {
      "cell_type": "markdown",
      "source": [
        "# 3. Regex Golf"
      ],
      "metadata": {
        "id": "Apae2Qv1Ckds"
      }
    },
    {
      "cell_type": "markdown",
      "source": [
        "## Instruction\n",
        "\n",
        "Regular expressions (regex) are sequences of characters that define search patterns, primarily used for string matching and manipulation.\n",
        "\n",
        "[Regex Golf](https://alf.nu/RegexGolf) is an interactive game that challenges you to create the shortest possible regex patterns to match specific criteria.\n",
        "\n",
        "---\n",
        "\n",
        "## Tasks\n",
        "\n",
        "Starting here: [Regex Golf](https://alf.nu/RegexGolf)\n",
        "\n",
        "There are no specific tasks for this section. Feel free to explore and enjoy the challenges if you're interested in regular expressions. For reference and testing, you can use the following resources:\n",
        "\n",
        "- **Regex Documentation**: [Regular-Expressions.info](https://www.regular-expressions.info/tutorial.html)\n",
        "\n",
        "- **Online Regex Tester**: [Regex101](https://regex101.com/), an online tool for building, testing, and debugging regex patterns.\n",
        "\n",
        "---\n",
        "\n",
        "For a visual introduction to regular expressions and Regex Golf, you might find the following video helpful:\n",
        "\n",
        "[Practice Regular Expressions with Regex Golf!](https://www.youtube.com/watch?v=Qv_RYpREz5k)"
      ],
      "metadata": {
        "id": "gwMi-xVZZ9fR"
      }
    }
  ]
}